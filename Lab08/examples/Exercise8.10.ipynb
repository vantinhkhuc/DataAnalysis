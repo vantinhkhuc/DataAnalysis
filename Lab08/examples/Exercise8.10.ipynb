{
  "nbformat": 4,
  "nbformat_minor": 0,
  "metadata": {
    "colab": {
      "name": "Exercise 38-44.ipynb",
      "provenance": [],
      "collapsed_sections": [
        "tKOcAQ4jWyKP",
        "o_Dg0GQgWyKS",
        "eGxgfYgzWyKU",
        "JuIiKtD_WyKW",
        "dThmUV81WyKY",
        "DhqLNILeWyKa",
        "_maM-ef1WyKa",
        "rmOuj1IaWyKc",
        "_JC2N_GCWyKc",
        "-_SeWs9VWyKf",
        "gAEYkIPqWyKf"
      ]
    },
    "kernelspec": {
      "display_name": "Python 3",
      "language": "python",
      "name": "python3"
    },
    "language_info": {
      "codemirror_mode": {
        "name": "ipython",
        "version": 3
      },
      "file_extension": ".py",
      "mimetype": "text/x-python",
      "name": "python",
      "nbconvert_exporter": "python",
      "pygments_lexer": "ipython3",
      "version": "3.7.1"
    }
  },
  "cells": [
    {
      "cell_type": "markdown",
      "metadata": {
        "id": "i3eiAghGWyJm"
      },
      "source": [
        "### Scroll Down Below to start from Exercise 8.04"
      ]
    },
    {
      "cell_type": "code",
      "metadata": {
        "id": "au89aH85D8gk"
      },
      "source": [
        "# Removes Warnings\n",
        "import warnings\n",
        "warnings.filterwarnings('ignore')\n",
        "#import the necessary packages\n",
        "import pandas as pd\n",
        "import numpy as np\n",
        "import matplotlib.pyplot as plt\n",
        "import seaborn as sns"
      ],
      "execution_count": 1,
      "outputs": []
    },
    {
      "cell_type": "markdown",
      "metadata": {
        "id": "dmrDS0NwD8go"
      },
      "source": [
        "## Reading the data using pandas"
      ]
    },
    {
      "cell_type": "code",
      "metadata": {
        "colab": {
          "base_uri": "https://localhost:8080/",
          "height": 241
        },
        "id": "ZXpotN0ND8gp",
        "scrolled": false,
        "outputId": "162facd1-e138-4a7c-ee49-bd99b17dca8d"
      },
      "source": [
        "data= pd.read_csv('Churn_Modelling.csv')\n",
        "data.head(5)"
      ],
      "execution_count": 2,
      "outputs": [
        {
          "output_type": "execute_result",
          "data": {
            "text/html": [
              "<div>\n",
              "<style scoped>\n",
              "    .dataframe tbody tr th:only-of-type {\n",
              "        vertical-align: middle;\n",
              "    }\n",
              "\n",
              "    .dataframe tbody tr th {\n",
              "        vertical-align: top;\n",
              "    }\n",
              "\n",
              "    .dataframe thead th {\n",
              "        text-align: right;\n",
              "    }\n",
              "</style>\n",
              "<table border=\"1\" class=\"dataframe\">\n",
              "  <thead>\n",
              "    <tr style=\"text-align: right;\">\n",
              "      <th></th>\n",
              "      <th>CustomerId</th>\n",
              "      <th>CredRate</th>\n",
              "      <th>Geography</th>\n",
              "      <th>Gender</th>\n",
              "      <th>Age</th>\n",
              "      <th>Tenure</th>\n",
              "      <th>Balance</th>\n",
              "      <th>Prod Number</th>\n",
              "      <th>HasCrCard</th>\n",
              "      <th>ActMem</th>\n",
              "      <th>EstimatedSalary</th>\n",
              "      <th>Exited</th>\n",
              "    </tr>\n",
              "  </thead>\n",
              "  <tbody>\n",
              "    <tr>\n",
              "      <th>0</th>\n",
              "      <td>15634602</td>\n",
              "      <td>619</td>\n",
              "      <td>France</td>\n",
              "      <td>Female</td>\n",
              "      <td>42.0</td>\n",
              "      <td>2</td>\n",
              "      <td>0.00</td>\n",
              "      <td>1</td>\n",
              "      <td>1</td>\n",
              "      <td>1</td>\n",
              "      <td>101348.88</td>\n",
              "      <td>1</td>\n",
              "    </tr>\n",
              "    <tr>\n",
              "      <th>1</th>\n",
              "      <td>15647311</td>\n",
              "      <td>608</td>\n",
              "      <td>Spain</td>\n",
              "      <td>Female</td>\n",
              "      <td>41.0</td>\n",
              "      <td>1</td>\n",
              "      <td>83807.86</td>\n",
              "      <td>1</td>\n",
              "      <td>0</td>\n",
              "      <td>1</td>\n",
              "      <td>112542.58</td>\n",
              "      <td>0</td>\n",
              "    </tr>\n",
              "    <tr>\n",
              "      <th>2</th>\n",
              "      <td>15619304</td>\n",
              "      <td>502</td>\n",
              "      <td>France</td>\n",
              "      <td>Female</td>\n",
              "      <td>42.0</td>\n",
              "      <td>8</td>\n",
              "      <td>159660.80</td>\n",
              "      <td>3</td>\n",
              "      <td>1</td>\n",
              "      <td>0</td>\n",
              "      <td>113931.57</td>\n",
              "      <td>1</td>\n",
              "    </tr>\n",
              "    <tr>\n",
              "      <th>3</th>\n",
              "      <td>15701354</td>\n",
              "      <td>699</td>\n",
              "      <td>France</td>\n",
              "      <td>Female</td>\n",
              "      <td>39.0</td>\n",
              "      <td>1</td>\n",
              "      <td>0.00</td>\n",
              "      <td>2</td>\n",
              "      <td>0</td>\n",
              "      <td>0</td>\n",
              "      <td>93826.63</td>\n",
              "      <td>0</td>\n",
              "    </tr>\n",
              "    <tr>\n",
              "      <th>4</th>\n",
              "      <td>15737888</td>\n",
              "      <td>850</td>\n",
              "      <td>Spain</td>\n",
              "      <td>Female</td>\n",
              "      <td>43.0</td>\n",
              "      <td>2</td>\n",
              "      <td>125510.82</td>\n",
              "      <td>1</td>\n",
              "      <td>1</td>\n",
              "      <td>1</td>\n",
              "      <td>79084.10</td>\n",
              "      <td>0</td>\n",
              "    </tr>\n",
              "  </tbody>\n",
              "</table>\n",
              "</div>"
            ],
            "text/plain": [
              "   CustomerId  CredRate Geography  ... ActMem  EstimatedSalary  Exited\n",
              "0    15634602       619    France  ...      1        101348.88       1\n",
              "1    15647311       608     Spain  ...      1        112542.58       0\n",
              "2    15619304       502    France  ...      0        113931.57       1\n",
              "3    15701354       699    France  ...      0         93826.63       0\n",
              "4    15737888       850     Spain  ...      1         79084.10       0\n",
              "\n",
              "[5 rows x 12 columns]"
            ]
          },
          "metadata": {
            "tags": []
          },
          "execution_count": 2
        }
      ]
    },
    {
      "cell_type": "code",
      "metadata": {
        "colab": {
          "base_uri": "https://localhost:8080/"
        },
        "id": "5yJg6_zQD8gt",
        "outputId": "f0bd43b4-c913-40df-8325-f26b99568a72"
      },
      "source": [
        "len(data)"
      ],
      "execution_count": 3,
      "outputs": [
        {
          "output_type": "execute_result",
          "data": {
            "text/plain": [
              "10000"
            ]
          },
          "metadata": {
            "tags": []
          },
          "execution_count": 3
        }
      ]
    },
    {
      "cell_type": "code",
      "metadata": {
        "colab": {
          "base_uri": "https://localhost:8080/"
        },
        "id": "ZvciPh7mD8gv",
        "outputId": "77259fc8-341c-4bae-f0be-f3314aa30300"
      },
      "source": [
        "data.shape"
      ],
      "execution_count": 4,
      "outputs": [
        {
          "output_type": "execute_result",
          "data": {
            "text/plain": [
              "(10000, 12)"
            ]
          },
          "metadata": {
            "tags": []
          },
          "execution_count": 4
        }
      ]
    },
    {
      "cell_type": "markdown",
      "metadata": {
        "id": "zou21ZF-D8gz"
      },
      "source": [
        "## Scrubbing the data"
      ]
    },
    {
      "cell_type": "code",
      "metadata": {
        "colab": {
          "base_uri": "https://localhost:8080/"
        },
        "id": "LnZpqb5ID8gz",
        "outputId": "c5c39fb3-1e82-463f-ad59-87afc047f875"
      },
      "source": [
        "data.isnull().values.any()"
      ],
      "execution_count": 5,
      "outputs": [
        {
          "output_type": "execute_result",
          "data": {
            "text/plain": [
              "True"
            ]
          },
          "metadata": {
            "tags": []
          },
          "execution_count": 5
        }
      ]
    },
    {
      "cell_type": "code",
      "metadata": {
        "colab": {
          "base_uri": "https://localhost:8080/"
        },
        "id": "AYulnj6tD8g1",
        "scrolled": true,
        "outputId": "34e808e4-3d7b-4040-f940-ddd5e56d5cc5"
      },
      "source": [
        "#It seems we have some missing values now let us explore what are the columns\n",
        "#having missing values\n",
        "\n",
        "data.isnull().any()\n",
        "\n",
        "## it seems that we have missing values in Gender,age and EstimatedSalary"
      ],
      "execution_count": 6,
      "outputs": [
        {
          "output_type": "execute_result",
          "data": {
            "text/plain": [
              "CustomerId         False\n",
              "CredRate           False\n",
              "Geography          False\n",
              "Gender              True\n",
              "Age                 True\n",
              "Tenure             False\n",
              "Balance            False\n",
              "Prod Number        False\n",
              "HasCrCard          False\n",
              "ActMem             False\n",
              "EstimatedSalary     True\n",
              "Exited             False\n",
              "dtype: bool"
            ]
          },
          "metadata": {
            "tags": []
          },
          "execution_count": 6
        }
      ]
    },
    {
      "cell_type": "code",
      "metadata": {
        "colab": {
          "base_uri": "https://localhost:8080/",
          "height": 297
        },
        "id": "kV7Dot-wD8g4",
        "outputId": "af832b04-2e6c-4a8f-f204-f14a71faf9d9"
      },
      "source": [
        "data[[\"EstimatedSalary\",\"Age\"]].describe()\n"
      ],
      "execution_count": 7,
      "outputs": [
        {
          "output_type": "execute_result",
          "data": {
            "text/html": [
              "<div>\n",
              "<style scoped>\n",
              "    .dataframe tbody tr th:only-of-type {\n",
              "        vertical-align: middle;\n",
              "    }\n",
              "\n",
              "    .dataframe tbody tr th {\n",
              "        vertical-align: top;\n",
              "    }\n",
              "\n",
              "    .dataframe thead th {\n",
              "        text-align: right;\n",
              "    }\n",
              "</style>\n",
              "<table border=\"1\" class=\"dataframe\">\n",
              "  <thead>\n",
              "    <tr style=\"text-align: right;\">\n",
              "      <th></th>\n",
              "      <th>EstimatedSalary</th>\n",
              "      <th>Age</th>\n",
              "    </tr>\n",
              "  </thead>\n",
              "  <tbody>\n",
              "    <tr>\n",
              "      <th>count</th>\n",
              "      <td>9996.000000</td>\n",
              "      <td>9994.000000</td>\n",
              "    </tr>\n",
              "    <tr>\n",
              "      <th>mean</th>\n",
              "      <td>100074.744083</td>\n",
              "      <td>38.925255</td>\n",
              "    </tr>\n",
              "    <tr>\n",
              "      <th>std</th>\n",
              "      <td>57515.774555</td>\n",
              "      <td>10.489248</td>\n",
              "    </tr>\n",
              "    <tr>\n",
              "      <th>min</th>\n",
              "      <td>11.580000</td>\n",
              "      <td>18.000000</td>\n",
              "    </tr>\n",
              "    <tr>\n",
              "      <th>25%</th>\n",
              "      <td>50974.077500</td>\n",
              "      <td>32.000000</td>\n",
              "    </tr>\n",
              "    <tr>\n",
              "      <th>50%</th>\n",
              "      <td>100168.240000</td>\n",
              "      <td>37.000000</td>\n",
              "    </tr>\n",
              "    <tr>\n",
              "      <th>75%</th>\n",
              "      <td>149388.247500</td>\n",
              "      <td>44.000000</td>\n",
              "    </tr>\n",
              "    <tr>\n",
              "      <th>max</th>\n",
              "      <td>199992.480000</td>\n",
              "      <td>92.000000</td>\n",
              "    </tr>\n",
              "  </tbody>\n",
              "</table>\n",
              "</div>"
            ],
            "text/plain": [
              "       EstimatedSalary          Age\n",
              "count      9996.000000  9994.000000\n",
              "mean     100074.744083    38.925255\n",
              "std       57515.774555    10.489248\n",
              "min          11.580000    18.000000\n",
              "25%       50974.077500    32.000000\n",
              "50%      100168.240000    37.000000\n",
              "75%      149388.247500    44.000000\n",
              "max      199992.480000    92.000000"
            ]
          },
          "metadata": {
            "tags": []
          },
          "execution_count": 7
        }
      ]
    },
    {
      "cell_type": "code",
      "metadata": {
        "colab": {
          "base_uri": "https://localhost:8080/",
          "height": 334
        },
        "id": "0nQhFg53D8g7",
        "outputId": "ef1aa995-69d6-41f2-94f8-c31cc95a51d6"
      },
      "source": [
        "data.describe()\n",
        "#### It seems that HasCrCard has value as 0 and 1 hence needs to be changed to category"
      ],
      "execution_count": 8,
      "outputs": [
        {
          "output_type": "execute_result",
          "data": {
            "text/html": [
              "<div>\n",
              "<style scoped>\n",
              "    .dataframe tbody tr th:only-of-type {\n",
              "        vertical-align: middle;\n",
              "    }\n",
              "\n",
              "    .dataframe tbody tr th {\n",
              "        vertical-align: top;\n",
              "    }\n",
              "\n",
              "    .dataframe thead th {\n",
              "        text-align: right;\n",
              "    }\n",
              "</style>\n",
              "<table border=\"1\" class=\"dataframe\">\n",
              "  <thead>\n",
              "    <tr style=\"text-align: right;\">\n",
              "      <th></th>\n",
              "      <th>CustomerId</th>\n",
              "      <th>CredRate</th>\n",
              "      <th>Age</th>\n",
              "      <th>Tenure</th>\n",
              "      <th>Balance</th>\n",
              "      <th>Prod Number</th>\n",
              "      <th>HasCrCard</th>\n",
              "      <th>ActMem</th>\n",
              "      <th>EstimatedSalary</th>\n",
              "      <th>Exited</th>\n",
              "    </tr>\n",
              "  </thead>\n",
              "  <tbody>\n",
              "    <tr>\n",
              "      <th>count</th>\n",
              "      <td>1.000000e+04</td>\n",
              "      <td>10000.000000</td>\n",
              "      <td>9994.000000</td>\n",
              "      <td>10000.000000</td>\n",
              "      <td>10000.000000</td>\n",
              "      <td>10000.000000</td>\n",
              "      <td>10000.00000</td>\n",
              "      <td>10000.000000</td>\n",
              "      <td>9996.000000</td>\n",
              "      <td>10000.000000</td>\n",
              "    </tr>\n",
              "    <tr>\n",
              "      <th>mean</th>\n",
              "      <td>1.569094e+07</td>\n",
              "      <td>650.528800</td>\n",
              "      <td>38.925255</td>\n",
              "      <td>5.012800</td>\n",
              "      <td>76485.889288</td>\n",
              "      <td>1.530200</td>\n",
              "      <td>0.70550</td>\n",
              "      <td>0.515100</td>\n",
              "      <td>100074.744083</td>\n",
              "      <td>0.203700</td>\n",
              "    </tr>\n",
              "    <tr>\n",
              "      <th>std</th>\n",
              "      <td>7.193619e+04</td>\n",
              "      <td>96.653299</td>\n",
              "      <td>10.489248</td>\n",
              "      <td>2.892174</td>\n",
              "      <td>62397.405202</td>\n",
              "      <td>0.581654</td>\n",
              "      <td>0.45584</td>\n",
              "      <td>0.499797</td>\n",
              "      <td>57515.774555</td>\n",
              "      <td>0.402769</td>\n",
              "    </tr>\n",
              "    <tr>\n",
              "      <th>min</th>\n",
              "      <td>1.556570e+07</td>\n",
              "      <td>350.000000</td>\n",
              "      <td>18.000000</td>\n",
              "      <td>0.000000</td>\n",
              "      <td>0.000000</td>\n",
              "      <td>1.000000</td>\n",
              "      <td>0.00000</td>\n",
              "      <td>0.000000</td>\n",
              "      <td>11.580000</td>\n",
              "      <td>0.000000</td>\n",
              "    </tr>\n",
              "    <tr>\n",
              "      <th>25%</th>\n",
              "      <td>1.562853e+07</td>\n",
              "      <td>584.000000</td>\n",
              "      <td>32.000000</td>\n",
              "      <td>3.000000</td>\n",
              "      <td>0.000000</td>\n",
              "      <td>1.000000</td>\n",
              "      <td>0.00000</td>\n",
              "      <td>0.000000</td>\n",
              "      <td>50974.077500</td>\n",
              "      <td>0.000000</td>\n",
              "    </tr>\n",
              "    <tr>\n",
              "      <th>50%</th>\n",
              "      <td>1.569074e+07</td>\n",
              "      <td>652.000000</td>\n",
              "      <td>37.000000</td>\n",
              "      <td>5.000000</td>\n",
              "      <td>97198.540000</td>\n",
              "      <td>1.000000</td>\n",
              "      <td>1.00000</td>\n",
              "      <td>1.000000</td>\n",
              "      <td>100168.240000</td>\n",
              "      <td>0.000000</td>\n",
              "    </tr>\n",
              "    <tr>\n",
              "      <th>75%</th>\n",
              "      <td>1.575323e+07</td>\n",
              "      <td>718.000000</td>\n",
              "      <td>44.000000</td>\n",
              "      <td>7.000000</td>\n",
              "      <td>127644.240000</td>\n",
              "      <td>2.000000</td>\n",
              "      <td>1.00000</td>\n",
              "      <td>1.000000</td>\n",
              "      <td>149388.247500</td>\n",
              "      <td>0.000000</td>\n",
              "    </tr>\n",
              "    <tr>\n",
              "      <th>max</th>\n",
              "      <td>1.581569e+07</td>\n",
              "      <td>850.000000</td>\n",
              "      <td>92.000000</td>\n",
              "      <td>10.000000</td>\n",
              "      <td>250898.090000</td>\n",
              "      <td>4.000000</td>\n",
              "      <td>1.00000</td>\n",
              "      <td>1.000000</td>\n",
              "      <td>199992.480000</td>\n",
              "      <td>1.000000</td>\n",
              "    </tr>\n",
              "  </tbody>\n",
              "</table>\n",
              "</div>"
            ],
            "text/plain": [
              "         CustomerId      CredRate  ...  EstimatedSalary        Exited\n",
              "count  1.000000e+04  10000.000000  ...      9996.000000  10000.000000\n",
              "mean   1.569094e+07    650.528800  ...    100074.744083      0.203700\n",
              "std    7.193619e+04     96.653299  ...     57515.774555      0.402769\n",
              "min    1.556570e+07    350.000000  ...        11.580000      0.000000\n",
              "25%    1.562853e+07    584.000000  ...     50974.077500      0.000000\n",
              "50%    1.569074e+07    652.000000  ...    100168.240000      0.000000\n",
              "75%    1.575323e+07    718.000000  ...    149388.247500      0.000000\n",
              "max    1.581569e+07    850.000000  ...    199992.480000      1.000000\n",
              "\n",
              "[8 rows x 10 columns]"
            ]
          },
          "metadata": {
            "tags": []
          },
          "execution_count": 8
        }
      ]
    },
    {
      "cell_type": "code",
      "metadata": {
        "colab": {
          "base_uri": "https://localhost:8080/"
        },
        "id": "XQEo-Ty2D8g9",
        "outputId": "b8bef48c-6c27-4839-cefd-a135b1a946b3"
      },
      "source": [
        "data['HasCrCard'].value_counts()"
      ],
      "execution_count": 9,
      "outputs": [
        {
          "output_type": "execute_result",
          "data": {
            "text/plain": [
              "1    7055\n",
              "0    2945\n",
              "Name: HasCrCard, dtype: int64"
            ]
          },
          "metadata": {
            "tags": []
          },
          "execution_count": 9
        }
      ]
    },
    {
      "cell_type": "code",
      "metadata": {
        "colab": {
          "base_uri": "https://localhost:8080/"
        },
        "id": "pdd9CejWD8g_",
        "outputId": "cb8fb499-4513-4e48-8484-dad86e9a9c8e"
      },
      "source": [
        "## No of missing Values present\n",
        "data.isnull().sum()"
      ],
      "execution_count": 10,
      "outputs": [
        {
          "output_type": "execute_result",
          "data": {
            "text/plain": [
              "CustomerId         0\n",
              "CredRate           0\n",
              "Geography          0\n",
              "Gender             4\n",
              "Age                6\n",
              "Tenure             0\n",
              "Balance            0\n",
              "Prod Number        0\n",
              "HasCrCard          0\n",
              "ActMem             0\n",
              "EstimatedSalary    4\n",
              "Exited             0\n",
              "dtype: int64"
            ]
          },
          "metadata": {
            "tags": []
          },
          "execution_count": 10
        }
      ]
    },
    {
      "cell_type": "code",
      "metadata": {
        "colab": {
          "base_uri": "https://localhost:8080/"
        },
        "id": "KLkwUky8D8hA",
        "outputId": "45341286-25e8-4582-a717-7eff93af2922"
      },
      "source": [
        "## Percentage of missing Values present\n",
        "round(data.isnull().sum()/len(data)*100,2)"
      ],
      "execution_count": 11,
      "outputs": [
        {
          "output_type": "execute_result",
          "data": {
            "text/plain": [
              "CustomerId         0.00\n",
              "CredRate           0.00\n",
              "Geography          0.00\n",
              "Gender             0.04\n",
              "Age                0.06\n",
              "Tenure             0.00\n",
              "Balance            0.00\n",
              "Prod Number        0.00\n",
              "HasCrCard          0.00\n",
              "ActMem             0.00\n",
              "EstimatedSalary    0.04\n",
              "Exited             0.00\n",
              "dtype: float64"
            ]
          },
          "metadata": {
            "tags": []
          },
          "execution_count": 11
        }
      ]
    },
    {
      "cell_type": "code",
      "metadata": {
        "colab": {
          "base_uri": "https://localhost:8080/"
        },
        "id": "Ph8QT6tbD8hD",
        "outputId": "2a6fb56c-c7a9-4a69-8ea4-77a1d5329153"
      },
      "source": [
        "## Checking the datatype of the missing columns\n",
        "data[[\"Gender\",\"Age\",\"EstimatedSalary\"]].dtypes"
      ],
      "execution_count": 12,
      "outputs": [
        {
          "output_type": "execute_result",
          "data": {
            "text/plain": [
              "Gender              object\n",
              "Age                float64\n",
              "EstimatedSalary    float64\n",
              "dtype: object"
            ]
          },
          "metadata": {
            "tags": []
          },
          "execution_count": 12
        }
      ]
    },
    {
      "cell_type": "markdown",
      "metadata": {
        "id": "YnyeXWxOD8hE"
      },
      "source": [
        "### There are three ways to impute missing values:\n",
        "    1. Droping the missing values rows\n",
        "    2. Fill missing values with a test stastics\n",
        "    3. Predict the missing values using ML algorithm"
      ]
    },
    {
      "cell_type": "code",
      "metadata": {
        "id": "dCUpvg2rD8hF"
      },
      "source": [
        "mean_value=data['EstimatedSalary'].mean() \n",
        "data['EstimatedSalary']=data['EstimatedSalary']\\\n",
        ".fillna(mean_value) "
      ],
      "execution_count": 13,
      "outputs": []
    },
    {
      "cell_type": "code",
      "metadata": {
        "colab": {
          "base_uri": "https://localhost:8080/"
        },
        "id": "qy2sz2fDD8hH",
        "scrolled": true,
        "outputId": "41de068c-4e89-4694-b261-1b431eb11acf"
      },
      "source": [
        "data['Gender'].value_counts()"
      ],
      "execution_count": 14,
      "outputs": [
        {
          "output_type": "execute_result",
          "data": {
            "text/plain": [
              "Male      5453\n",
              "Female    4543\n",
              "Name: Gender, dtype: int64"
            ]
          },
          "metadata": {
            "tags": []
          },
          "execution_count": 14
        }
      ]
    },
    {
      "cell_type": "code",
      "metadata": {
        "id": "nrOxm8NED8hI"
      },
      "source": [
        "data['Gender']=data['Gender'].fillna(data['Gender']\\\n",
        "                                     .value_counts().idxmax()) "
      ],
      "execution_count": 15,
      "outputs": []
    },
    {
      "cell_type": "code",
      "metadata": {
        "id": "DNyUhkJiD8hK"
      },
      "source": [
        "mode_value=data['Age'].mode()\n",
        "data['Age']=data['Age'].fillna(mode_value[0])"
      ],
      "execution_count": 16,
      "outputs": []
    },
    {
      "cell_type": "code",
      "metadata": {
        "colab": {
          "base_uri": "https://localhost:8080/"
        },
        "id": "jAQ_dQuND8hM",
        "scrolled": true,
        "outputId": "b0a88b86-031e-4c20-9a28-9afc0cce376e"
      },
      "source": [
        "##checking for any missing values\n",
        "\n",
        "data.isnull().any()"
      ],
      "execution_count": 17,
      "outputs": [
        {
          "output_type": "execute_result",
          "data": {
            "text/plain": [
              "CustomerId         False\n",
              "CredRate           False\n",
              "Geography          False\n",
              "Gender             False\n",
              "Age                False\n",
              "Tenure             False\n",
              "Balance            False\n",
              "Prod Number        False\n",
              "HasCrCard          False\n",
              "ActMem             False\n",
              "EstimatedSalary    False\n",
              "Exited             False\n",
              "dtype: bool"
            ]
          },
          "metadata": {
            "tags": []
          },
          "execution_count": 17
        }
      ]
    },
    {
      "cell_type": "markdown",
      "metadata": {
        "id": "FReQAW76D8hO"
      },
      "source": [
        "### Renaming the columns"
      ]
    },
    {
      "cell_type": "code",
      "metadata": {
        "colab": {
          "base_uri": "https://localhost:8080/"
        },
        "id": "OEkY0R6JD8hP",
        "outputId": "928bdbc3-33af-4ac2-9388-d66f071330ff"
      },
      "source": [
        "# We would want to rename some of the columns\n",
        "\n",
        "data = data.rename(columns={'CredRate': 'CreditScore',\\\n",
        "                            'ActMem' : 'IsActiveMember',\\\n",
        "                            'Prod Number': 'NumOfProducts',\\\n",
        "                            'Exited':'Churn'}) \n",
        "data.columns"
      ],
      "execution_count": 18,
      "outputs": [
        {
          "output_type": "execute_result",
          "data": {
            "text/plain": [
              "Index(['CustomerId', 'CreditScore', 'Geography', 'Gender', 'Age', 'Tenure',\n",
              "       'Balance', 'NumOfProducts', 'HasCrCard', 'IsActiveMember',\n",
              "       'EstimatedSalary', 'Churn'],\n",
              "      dtype='object')"
            ]
          },
          "metadata": {
            "tags": []
          },
          "execution_count": 18
        }
      ]
    },
    {
      "cell_type": "markdown",
      "metadata": {
        "id": "lsAKoV9lD8hQ"
      },
      "source": [
        "### We would also like to move the churn columnn to the extreme right and drop the customer ID"
      ]
    },
    {
      "cell_type": "code",
      "metadata": {
        "id": "NMtvzEpFD8hR"
      },
      "source": [
        "data.drop(labels=['CustomerId'], axis=1,inplace = True)"
      ],
      "execution_count": 19,
      "outputs": []
    },
    {
      "cell_type": "code",
      "metadata": {
        "id": "JuCCIr0oD8hS"
      },
      "source": [
        "column_churn = data['Churn']\n",
        "data.drop(labels=['Churn'], axis=1,inplace = True)\n",
        "data.insert(len(data.columns), 'Churn', column_churn.values)"
      ],
      "execution_count": 20,
      "outputs": []
    },
    {
      "cell_type": "code",
      "metadata": {
        "colab": {
          "base_uri": "https://localhost:8080/"
        },
        "id": "KVj2V0vaD8hU",
        "scrolled": true,
        "outputId": "bd424cc5-16e2-4e65-91e7-83cb55ce25a6"
      },
      "source": [
        "data.columns"
      ],
      "execution_count": 21,
      "outputs": [
        {
          "output_type": "execute_result",
          "data": {
            "text/plain": [
              "Index(['CreditScore', 'Geography', 'Gender', 'Age', 'Tenure', 'Balance',\n",
              "       'NumOfProducts', 'HasCrCard', 'IsActiveMember', 'EstimatedSalary',\n",
              "       'Churn'],\n",
              "      dtype='object')"
            ]
          },
          "metadata": {
            "tags": []
          },
          "execution_count": 21
        }
      ]
    },
    {
      "cell_type": "markdown",
      "metadata": {
        "id": "B175BxrXD8hW"
      },
      "source": [
        "### Changing the data type"
      ]
    },
    {
      "cell_type": "code",
      "metadata": {
        "id": "OzK66juqD8hW"
      },
      "source": [
        "data[\"Geography\"] = data[\"Geography\"].astype('category') \n",
        "data[\"Gender\"] = data[\"Gender\"].astype('category') \n",
        "data[\"HasCrCard\"] = data[\"HasCrCard\"].astype('category') \n",
        "data[\"Churn\"] = data[\"Churn\"].astype('category') \n",
        "data[\"IsActiveMember\"] = data[\"IsActiveMember\"]\\\n",
        ".astype('category') "
      ],
      "execution_count": 22,
      "outputs": []
    },
    {
      "cell_type": "code",
      "metadata": {
        "colab": {
          "base_uri": "https://localhost:8080/"
        },
        "id": "I1yZ1qg-D8hY",
        "scrolled": true,
        "outputId": "4a864ccf-5286-442a-d05f-b7fcda4079c7"
      },
      "source": [
        "data.dtypes"
      ],
      "execution_count": 23,
      "outputs": [
        {
          "output_type": "execute_result",
          "data": {
            "text/plain": [
              "CreditScore           int64\n",
              "Geography          category\n",
              "Gender             category\n",
              "Age                 float64\n",
              "Tenure                int64\n",
              "Balance             float64\n",
              "NumOfProducts         int64\n",
              "HasCrCard          category\n",
              "IsActiveMember     category\n",
              "EstimatedSalary     float64\n",
              "Churn              category\n",
              "dtype: object"
            ]
          },
          "metadata": {
            "tags": []
          },
          "execution_count": 23
        }
      ]
    },
    {
      "cell_type": "markdown",
      "metadata": {
        "id": "MlP8DxhFD8ha"
      },
      "source": [
        "# Exploring the data"
      ]
    },
    {
      "cell_type": "markdown",
      "metadata": {
        "id": "oOgkuagJD8hb"
      },
      "source": [
        "## Statistical Overview"
      ]
    },
    {
      "cell_type": "code",
      "metadata": {
        "colab": {
          "base_uri": "https://localhost:8080/"
        },
        "id": "_T-6Ph1lD8hb",
        "outputId": "92394824-4430-40cd-c41c-48e51f88f194"
      },
      "source": [
        "data['Churn'].value_counts(0)"
      ],
      "execution_count": 24,
      "outputs": [
        {
          "output_type": "execute_result",
          "data": {
            "text/plain": [
              "0    7963\n",
              "1    2037\n",
              "Name: Churn, dtype: int64"
            ]
          },
          "metadata": {
            "tags": []
          },
          "execution_count": 24
        }
      ]
    },
    {
      "cell_type": "code",
      "metadata": {
        "colab": {
          "base_uri": "https://localhost:8080/"
        },
        "id": "rso_5jhvD8hd",
        "outputId": "7c88b1a5-13c0-4f77-ebfe-212d1970b21c"
      },
      "source": [
        "data['Churn'].value_counts(1)*100"
      ],
      "execution_count": 25,
      "outputs": [
        {
          "output_type": "execute_result",
          "data": {
            "text/plain": [
              "0    79.63\n",
              "1    20.37\n",
              "Name: Churn, dtype: float64"
            ]
          },
          "metadata": {
            "tags": []
          },
          "execution_count": 25
        }
      ]
    },
    {
      "cell_type": "code",
      "metadata": {
        "colab": {
          "base_uri": "https://localhost:8080/"
        },
        "id": "uKpbE363D8he",
        "outputId": "92e9b095-44ca-4616-a7da-fc67ee39287f"
      },
      "source": [
        "data['IsActiveMember'].value_counts(1)*100"
      ],
      "execution_count": 26,
      "outputs": [
        {
          "output_type": "execute_result",
          "data": {
            "text/plain": [
              "1    51.51\n",
              "0    48.49\n",
              "Name: IsActiveMember, dtype: float64"
            ]
          },
          "metadata": {
            "tags": []
          },
          "execution_count": 26
        }
      ]
    },
    {
      "cell_type": "code",
      "metadata": {
        "colab": {
          "base_uri": "https://localhost:8080/",
          "height": 297
        },
        "id": "4oAW2S5RD8hg",
        "outputId": "f4f8b2f9-5309-40e9-d5bc-ae928e1b52d8"
      },
      "source": [
        "data.describe()"
      ],
      "execution_count": 27,
      "outputs": [
        {
          "output_type": "execute_result",
          "data": {
            "text/html": [
              "<div>\n",
              "<style scoped>\n",
              "    .dataframe tbody tr th:only-of-type {\n",
              "        vertical-align: middle;\n",
              "    }\n",
              "\n",
              "    .dataframe tbody tr th {\n",
              "        vertical-align: top;\n",
              "    }\n",
              "\n",
              "    .dataframe thead th {\n",
              "        text-align: right;\n",
              "    }\n",
              "</style>\n",
              "<table border=\"1\" class=\"dataframe\">\n",
              "  <thead>\n",
              "    <tr style=\"text-align: right;\">\n",
              "      <th></th>\n",
              "      <th>CreditScore</th>\n",
              "      <th>Age</th>\n",
              "      <th>Tenure</th>\n",
              "      <th>Balance</th>\n",
              "      <th>NumOfProducts</th>\n",
              "      <th>EstimatedSalary</th>\n",
              "    </tr>\n",
              "  </thead>\n",
              "  <tbody>\n",
              "    <tr>\n",
              "      <th>count</th>\n",
              "      <td>10000.000000</td>\n",
              "      <td>10000.000000</td>\n",
              "      <td>10000.000000</td>\n",
              "      <td>10000.000000</td>\n",
              "      <td>10000.000000</td>\n",
              "      <td>10000.000000</td>\n",
              "    </tr>\n",
              "    <tr>\n",
              "      <th>mean</th>\n",
              "      <td>650.528800</td>\n",
              "      <td>38.924100</td>\n",
              "      <td>5.012800</td>\n",
              "      <td>76485.889288</td>\n",
              "      <td>1.530200</td>\n",
              "      <td>100074.744083</td>\n",
              "    </tr>\n",
              "    <tr>\n",
              "      <th>std</th>\n",
              "      <td>96.653299</td>\n",
              "      <td>10.486207</td>\n",
              "      <td>2.892174</td>\n",
              "      <td>62397.405202</td>\n",
              "      <td>0.581654</td>\n",
              "      <td>57504.269099</td>\n",
              "    </tr>\n",
              "    <tr>\n",
              "      <th>min</th>\n",
              "      <td>350.000000</td>\n",
              "      <td>18.000000</td>\n",
              "      <td>0.000000</td>\n",
              "      <td>0.000000</td>\n",
              "      <td>1.000000</td>\n",
              "      <td>11.580000</td>\n",
              "    </tr>\n",
              "    <tr>\n",
              "      <th>25%</th>\n",
              "      <td>584.000000</td>\n",
              "      <td>32.000000</td>\n",
              "      <td>3.000000</td>\n",
              "      <td>0.000000</td>\n",
              "      <td>1.000000</td>\n",
              "      <td>51002.110000</td>\n",
              "    </tr>\n",
              "    <tr>\n",
              "      <th>50%</th>\n",
              "      <td>652.000000</td>\n",
              "      <td>37.000000</td>\n",
              "      <td>5.000000</td>\n",
              "      <td>97198.540000</td>\n",
              "      <td>1.000000</td>\n",
              "      <td>100134.325000</td>\n",
              "    </tr>\n",
              "    <tr>\n",
              "      <th>75%</th>\n",
              "      <td>718.000000</td>\n",
              "      <td>44.000000</td>\n",
              "      <td>7.000000</td>\n",
              "      <td>127644.240000</td>\n",
              "      <td>2.000000</td>\n",
              "      <td>149382.097500</td>\n",
              "    </tr>\n",
              "    <tr>\n",
              "      <th>max</th>\n",
              "      <td>850.000000</td>\n",
              "      <td>92.000000</td>\n",
              "      <td>10.000000</td>\n",
              "      <td>250898.090000</td>\n",
              "      <td>4.000000</td>\n",
              "      <td>199992.480000</td>\n",
              "    </tr>\n",
              "  </tbody>\n",
              "</table>\n",
              "</div>"
            ],
            "text/plain": [
              "        CreditScore           Age  ...  NumOfProducts  EstimatedSalary\n",
              "count  10000.000000  10000.000000  ...   10000.000000     10000.000000\n",
              "mean     650.528800     38.924100  ...       1.530200    100074.744083\n",
              "std       96.653299     10.486207  ...       0.581654     57504.269099\n",
              "min      350.000000     18.000000  ...       1.000000        11.580000\n",
              "25%      584.000000     32.000000  ...       1.000000     51002.110000\n",
              "50%      652.000000     37.000000  ...       1.000000    100134.325000\n",
              "75%      718.000000     44.000000  ...       2.000000    149382.097500\n",
              "max      850.000000     92.000000  ...       4.000000    199992.480000\n",
              "\n",
              "[8 rows x 6 columns]"
            ]
          },
          "metadata": {
            "tags": []
          },
          "execution_count": 27
        }
      ]
    },
    {
      "cell_type": "code",
      "metadata": {
        "colab": {
          "base_uri": "https://localhost:8080/",
          "height": 142
        },
        "id": "Vw1t3PnUD8hi",
        "scrolled": true,
        "outputId": "1f33b85a-73fe-4d87-8775-5882696ce359"
      },
      "source": [
        "summary_churn = data.groupby('Churn')\n",
        "summary_churn.mean()"
      ],
      "execution_count": 28,
      "outputs": [
        {
          "output_type": "execute_result",
          "data": {
            "text/html": [
              "<div>\n",
              "<style scoped>\n",
              "    .dataframe tbody tr th:only-of-type {\n",
              "        vertical-align: middle;\n",
              "    }\n",
              "\n",
              "    .dataframe tbody tr th {\n",
              "        vertical-align: top;\n",
              "    }\n",
              "\n",
              "    .dataframe thead th {\n",
              "        text-align: right;\n",
              "    }\n",
              "</style>\n",
              "<table border=\"1\" class=\"dataframe\">\n",
              "  <thead>\n",
              "    <tr style=\"text-align: right;\">\n",
              "      <th></th>\n",
              "      <th>CreditScore</th>\n",
              "      <th>Age</th>\n",
              "      <th>Tenure</th>\n",
              "      <th>Balance</th>\n",
              "      <th>NumOfProducts</th>\n",
              "      <th>EstimatedSalary</th>\n",
              "    </tr>\n",
              "    <tr>\n",
              "      <th>Churn</th>\n",
              "      <th></th>\n",
              "      <th></th>\n",
              "      <th></th>\n",
              "      <th></th>\n",
              "      <th></th>\n",
              "      <th></th>\n",
              "    </tr>\n",
              "  </thead>\n",
              "  <tbody>\n",
              "    <tr>\n",
              "      <th>0</th>\n",
              "      <td>651.853196</td>\n",
              "      <td>37.411277</td>\n",
              "      <td>5.033279</td>\n",
              "      <td>72745.296779</td>\n",
              "      <td>1.544267</td>\n",
              "      <td>99718.932023</td>\n",
              "    </tr>\n",
              "    <tr>\n",
              "      <th>1</th>\n",
              "      <td>645.351497</td>\n",
              "      <td>44.837997</td>\n",
              "      <td>4.932744</td>\n",
              "      <td>91108.539337</td>\n",
              "      <td>1.475209</td>\n",
              "      <td>101465.677531</td>\n",
              "    </tr>\n",
              "  </tbody>\n",
              "</table>\n",
              "</div>"
            ],
            "text/plain": [
              "       CreditScore        Age  ...  NumOfProducts  EstimatedSalary\n",
              "Churn                          ...                                \n",
              "0       651.853196  37.411277  ...       1.544267     99718.932023\n",
              "1       645.351497  44.837997  ...       1.475209    101465.677531\n",
              "\n",
              "[2 rows x 6 columns]"
            ]
          },
          "metadata": {
            "tags": []
          },
          "execution_count": 28
        }
      ]
    },
    {
      "cell_type": "code",
      "metadata": {
        "colab": {
          "base_uri": "https://localhost:8080/",
          "height": 142
        },
        "id": "tSpWOB_DD8hk",
        "outputId": "9a0f63e7-a7dd-438a-af7e-790647301b95"
      },
      "source": [
        "summary_churn.median()"
      ],
      "execution_count": 29,
      "outputs": [
        {
          "output_type": "execute_result",
          "data": {
            "text/html": [
              "<div>\n",
              "<style scoped>\n",
              "    .dataframe tbody tr th:only-of-type {\n",
              "        vertical-align: middle;\n",
              "    }\n",
              "\n",
              "    .dataframe tbody tr th {\n",
              "        vertical-align: top;\n",
              "    }\n",
              "\n",
              "    .dataframe thead th {\n",
              "        text-align: right;\n",
              "    }\n",
              "</style>\n",
              "<table border=\"1\" class=\"dataframe\">\n",
              "  <thead>\n",
              "    <tr style=\"text-align: right;\">\n",
              "      <th></th>\n",
              "      <th>CreditScore</th>\n",
              "      <th>Age</th>\n",
              "      <th>Tenure</th>\n",
              "      <th>Balance</th>\n",
              "      <th>NumOfProducts</th>\n",
              "      <th>EstimatedSalary</th>\n",
              "    </tr>\n",
              "    <tr>\n",
              "      <th>Churn</th>\n",
              "      <th></th>\n",
              "      <th></th>\n",
              "      <th></th>\n",
              "      <th></th>\n",
              "      <th></th>\n",
              "      <th></th>\n",
              "    </tr>\n",
              "  </thead>\n",
              "  <tbody>\n",
              "    <tr>\n",
              "      <th>0</th>\n",
              "      <td>653</td>\n",
              "      <td>36.0</td>\n",
              "      <td>5</td>\n",
              "      <td>92072.68</td>\n",
              "      <td>2</td>\n",
              "      <td>99645.04</td>\n",
              "    </tr>\n",
              "    <tr>\n",
              "      <th>1</th>\n",
              "      <td>646</td>\n",
              "      <td>45.0</td>\n",
              "      <td>5</td>\n",
              "      <td>109349.29</td>\n",
              "      <td>1</td>\n",
              "      <td>102460.84</td>\n",
              "    </tr>\n",
              "  </tbody>\n",
              "</table>\n",
              "</div>"
            ],
            "text/plain": [
              "       CreditScore   Age  Tenure    Balance  NumOfProducts  EstimatedSalary\n",
              "Churn                                                                      \n",
              "0              653  36.0       5   92072.68              2         99645.04\n",
              "1              646  45.0       5  109349.29              1        102460.84"
            ]
          },
          "metadata": {
            "tags": []
          },
          "execution_count": 29
        }
      ]
    },
    {
      "cell_type": "code",
      "metadata": {
        "colab": {
          "base_uri": "https://localhost:8080/",
          "height": 705
        },
        "id": "qqdM67nsD8hm",
        "scrolled": false,
        "outputId": "eea2639d-1dc4-4c70-d91c-b5073d9268db"
      },
      "source": [
        "corr = data.corr() \n",
        "plt.figure(figsize=(15,8)) \n",
        "sns.heatmap(corr, \\\n",
        "            xticklabels=corr.columns.values,\\\n",
        "            yticklabels=corr.columns.values,\\\n",
        "            annot=True,cmap='Greys_r') \n",
        "corr "
      ],
      "execution_count": 30,
      "outputs": [
        {
          "output_type": "execute_result",
          "data": {
            "text/html": [
              "<div>\n",
              "<style scoped>\n",
              "    .dataframe tbody tr th:only-of-type {\n",
              "        vertical-align: middle;\n",
              "    }\n",
              "\n",
              "    .dataframe tbody tr th {\n",
              "        vertical-align: top;\n",
              "    }\n",
              "\n",
              "    .dataframe thead th {\n",
              "        text-align: right;\n",
              "    }\n",
              "</style>\n",
              "<table border=\"1\" class=\"dataframe\">\n",
              "  <thead>\n",
              "    <tr style=\"text-align: right;\">\n",
              "      <th></th>\n",
              "      <th>CreditScore</th>\n",
              "      <th>Age</th>\n",
              "      <th>Tenure</th>\n",
              "      <th>Balance</th>\n",
              "      <th>NumOfProducts</th>\n",
              "      <th>EstimatedSalary</th>\n",
              "    </tr>\n",
              "  </thead>\n",
              "  <tbody>\n",
              "    <tr>\n",
              "      <th>CreditScore</th>\n",
              "      <td>1.000000</td>\n",
              "      <td>-0.004179</td>\n",
              "      <td>0.000842</td>\n",
              "      <td>0.006268</td>\n",
              "      <td>0.012238</td>\n",
              "      <td>-0.001352</td>\n",
              "    </tr>\n",
              "    <tr>\n",
              "      <th>Age</th>\n",
              "      <td>-0.004179</td>\n",
              "      <td>1.000000</td>\n",
              "      <td>-0.009996</td>\n",
              "      <td>0.028141</td>\n",
              "      <td>-0.030590</td>\n",
              "      <td>-0.007215</td>\n",
              "    </tr>\n",
              "    <tr>\n",
              "      <th>Tenure</th>\n",
              "      <td>0.000842</td>\n",
              "      <td>-0.009996</td>\n",
              "      <td>1.000000</td>\n",
              "      <td>-0.012254</td>\n",
              "      <td>0.013444</td>\n",
              "      <td>0.007407</td>\n",
              "    </tr>\n",
              "    <tr>\n",
              "      <th>Balance</th>\n",
              "      <td>0.006268</td>\n",
              "      <td>0.028141</td>\n",
              "      <td>-0.012254</td>\n",
              "      <td>1.000000</td>\n",
              "      <td>-0.304180</td>\n",
              "      <td>0.013129</td>\n",
              "    </tr>\n",
              "    <tr>\n",
              "      <th>NumOfProducts</th>\n",
              "      <td>0.012238</td>\n",
              "      <td>-0.030590</td>\n",
              "      <td>0.013444</td>\n",
              "      <td>-0.304180</td>\n",
              "      <td>1.000000</td>\n",
              "      <td>0.014132</td>\n",
              "    </tr>\n",
              "    <tr>\n",
              "      <th>EstimatedSalary</th>\n",
              "      <td>-0.001352</td>\n",
              "      <td>-0.007215</td>\n",
              "      <td>0.007407</td>\n",
              "      <td>0.013129</td>\n",
              "      <td>0.014132</td>\n",
              "      <td>1.000000</td>\n",
              "    </tr>\n",
              "  </tbody>\n",
              "</table>\n",
              "</div>"
            ],
            "text/plain": [
              "                 CreditScore       Age  ...  NumOfProducts  EstimatedSalary\n",
              "CreditScore         1.000000 -0.004179  ...       0.012238        -0.001352\n",
              "Age                -0.004179  1.000000  ...      -0.030590        -0.007215\n",
              "Tenure              0.000842 -0.009996  ...       0.013444         0.007407\n",
              "Balance             0.006268  0.028141  ...      -0.304180         0.013129\n",
              "NumOfProducts       0.012238 -0.030590  ...       1.000000         0.014132\n",
              "EstimatedSalary    -0.001352 -0.007215  ...       0.014132         1.000000\n",
              "\n",
              "[6 rows x 6 columns]"
            ]
          },
          "metadata": {
            "tags": []
          },
          "execution_count": 30
        },
        {
          "output_type": "display_data",
          "data": {
            "image/png": "[encoded data removed]",
            "text/plain": [
              "<Figure size 1080x576 with 2 Axes>"
            ]
          },
          "metadata": {
            "tags": [],
            "needs_background": "light"
          }
        }
      ]
    },
    {
      "cell_type": "markdown",
      "metadata": {
        "id": "K3MzLFBvD8ho"
      },
      "source": [
        "## Visualization"
      ]
    },
    {
      "cell_type": "code",
      "metadata": {
        "colab": {
          "base_uri": "https://localhost:8080/",
          "height": 421
        },
        "id": "yAMPzqvDD8ho",
        "scrolled": false,
        "outputId": "2251f6aa-d8f0-42b3-ead8-a591c560ba15"
      },
      "source": [
        "f, axes = plt.subplots(ncols=3, figsize=(15, 6)) \n",
        "\n",
        "sns.distplot(data.EstimatedSalary, kde=True, color=\"gray\", \\\n",
        "             ax=axes[0]).set_title('EstimatedSalary') \n",
        "axes[0].set_ylabel('No of Customers') \n",
        "\n",
        "sns.distplot(data.Age, kde=True, color=\"gray\", \\\n",
        "             ax=axes[1]).set_title('Age') \n",
        "axes[1].set_ylabel('No of Customers') \n",
        "\n",
        "sns.distplot(data.Balance, kde=True, color=\"gray\", \\\n",
        "             ax=axes[2]).set_title('Balance') \n",
        "axes[2].set_ylabel('No of Customers')"
      ],
      "execution_count": 31,
      "outputs": [
        {
          "output_type": "execute_result",
          "data": {
            "text/plain": [
              "Text(0, 0.5, 'No of Customers')"
            ]
          },
          "metadata": {
            "tags": []
          },
          "execution_count": 31
        },
        {
          "output_type": "display_data",
          "data": {
            "image/png": "[encoded data removed]",
            "text/plain": [
              "<Figure size 1080x432 with 3 Axes>"
            ]
          },
          "metadata": {
            "tags": [],
            "needs_background": "light"
          }
        }
      ]
    },
    {
      "cell_type": "code",
      "metadata": {
        "colab": {
          "base_uri": "https://localhost:8080/",
          "height": 303
        },
        "id": "EXtZgDJ_D8hq",
        "outputId": "2487d12f-ffcf-429e-f829-6fa9c7b0a53e"
      },
      "source": [
        "plt.figure(figsize=(15,4)) \n",
        "p=sns.countplot(y=\"Gender\", hue='Churn', data=data,\\\n",
        "                palette=\"Greys_r\") \n",
        "legend = p.get_legend() \n",
        "legend_txt = legend.texts \n",
        "legend_txt[0].set_text(\"No Churn\") \n",
        "legend_txt[1].set_text(\"Churn\") \n",
        "p.set_title('Customer Churn Distribution by Gender')"
      ],
      "execution_count": 32,
      "outputs": [
        {
          "output_type": "execute_result",
          "data": {
            "text/plain": [
              "Text(0.5, 1.0, 'Customer Churn Distribution by Gender')"
            ]
          },
          "metadata": {
            "tags": []
          },
          "execution_count": 32
        },
        {
          "output_type": "display_data",
          "data": {
            "image/png": "[encoded data removed]",
            "text/plain": [
              "<Figure size 1080x288 with 1 Axes>"
            ]
          },
          "metadata": {
            "tags": [],
            "needs_background": "light"
          }
        }
      ]
    },
    {
      "cell_type": "code",
      "metadata": {
        "colab": {
          "base_uri": "https://localhost:8080/",
          "height": 312
        },
        "id": "wjRFx98ZD8hr",
        "outputId": "1ea6c1bf-d91e-4e1f-88e3-ef15ed1680d2"
      },
      "source": [
        "plt.figure(figsize=(15,4)) \n",
        "p=sns.countplot(x='Geography', hue='Churn', data=data, \\\n",
        "                palette=\"Greys_r\") \n",
        "legend = p.get_legend() \n",
        "legend_txt = legend.texts \n",
        "legend_txt[0].set_text(\"No Churn\") \n",
        "legend_txt[1].set_text(\"Churn\") \n",
        "p.set_title('Customer Geography Distribution')"
      ],
      "execution_count": 33,
      "outputs": [
        {
          "output_type": "execute_result",
          "data": {
            "text/plain": [
              "Text(0.5, 1.0, 'Customer Geography Distribution')"
            ]
          },
          "metadata": {
            "tags": []
          },
          "execution_count": 33
        },
        {
          "output_type": "display_data",
          "data": {
            "image/png": "[encoded data removed]",
            "text/plain": [
              "<Figure size 1080x288 with 1 Axes>"
            ]
          },
          "metadata": {
            "tags": [],
            "needs_background": "light"
          }
        }
      ]
    },
    {
      "cell_type": "code",
      "metadata": {
        "colab": {
          "base_uri": "https://localhost:8080/",
          "height": 306
        },
        "id": "_sNQWU2ND8ht",
        "outputId": "6b255f39-71c2-4887-9917-d17a3de73255"
      },
      "source": [
        "plt.figure(figsize=(15,4)) \n",
        "p=sns.countplot(x='NumOfProducts', hue='Churn', data=data, \\\n",
        "                palette=\"Greys_r\") \n",
        "legend = p.get_legend() \n",
        "legend_txt = legend.texts \n",
        "legend_txt[0].set_text(\"No Churn\") \n",
        "legend_txt[1].set_text(\"Churn\") \n",
        "p.set_title('Customer Distribution by Product')"
      ],
      "execution_count": 34,
      "outputs": [
        {
          "output_type": "execute_result",
          "data": {
            "text/plain": [
              "Text(0.5, 1.0, 'Customer Distribution by Product')"
            ]
          },
          "metadata": {
            "tags": []
          },
          "execution_count": 34
        },
        {
          "output_type": "display_data",
          "data": {
            "image/png": "[encoded data removed]",
            "text/plain": [
              "<Figure size 1080x288 with 1 Axes>"
            ]
          },
          "metadata": {
            "tags": [],
            "needs_background": "light"
          }
        }
      ]
    },
    {
      "cell_type": "code",
      "metadata": {
        "colab": {
          "base_uri": "https://localhost:8080/",
          "height": 312
        },
        "id": "j4xJC7cFD8hv",
        "outputId": "93e54c29-1a65-41eb-c0c4-10eb151e7cbe"
      },
      "source": [
        "plt.figure(figsize=(15,4)) \n",
        "ax=sns.kdeplot(data.loc[(data['Churn'] == 0),'Age'] , \\\n",
        "               color=sns.color_palette(\"Greys_r\")[0],\\\n",
        "               shade=True,label='no churn') \n",
        "ax=sns.kdeplot(data.loc[(data['Churn'] == 1),'Age'] , \\\n",
        "               color=sns.color_palette(\"Greys_r\")[1],\\\n",
        "               shade=True, label='churn') \n",
        "ax.set(xlabel='Customer Age', ylabel='Frequency') \n",
        "plt.title('Customer Age - churn vs no churn') "
      ],
      "execution_count": 35,
      "outputs": [
        {
          "output_type": "execute_result",
          "data": {
            "text/plain": [
              "Text(0.5, 1.0, 'Customer Age - churn vs no churn')"
            ]
          },
          "metadata": {
            "tags": []
          },
          "execution_count": 35
        },
        {
          "output_type": "display_data",
          "data": {
            "image/png": "[encoded data removed]",
            "text/plain": [
              "<Figure size 1080x288 with 1 Axes>"
            ]
          },
          "metadata": {
            "tags": [],
            "needs_background": "light"
          }
        }
      ]
    },
    {
      "cell_type": "code",
      "metadata": {
        "colab": {
          "base_uri": "https://localhost:8080/",
          "height": 312
        },
        "id": "D9AJWefhD8hx",
        "outputId": "8fb7380f-c3e6-4019-80ea-0f0e1da045c7"
      },
      "source": [
        "plt.figure(figsize=(15,4)) \n",
        "ax=sns.kdeplot(data.loc[(data['Churn'] == 0),'Balance'] , \\\n",
        "               color=sns.color_palette(\"Greys_r\")[0],\\\n",
        "               shade=True,label='no churn') \n",
        "ax=sns.kdeplot(data.loc[(data['Churn'] == 1),'Balance'] , \\\n",
        "               color=sns.color_palette(\"Greys_r\")[1],\\\n",
        "               shade=True, label='churn') \n",
        "ax.set(xlabel='Customer Balance', ylabel='Frequency') \n",
        "plt.title('Customer Balance - churn vs no churn')"
      ],
      "execution_count": 36,
      "outputs": [
        {
          "output_type": "execute_result",
          "data": {
            "text/plain": [
              "Text(0.5, 1.0, 'Customer Balance - churn vs no churn')"
            ]
          },
          "metadata": {
            "tags": []
          },
          "execution_count": 36
        },
        {
          "output_type": "display_data",
          "data": {
            "image/png": "[encoded data removed]",
            "text/plain": [
              "<Figure size 1080x288 with 1 Axes>"
            ]
          },
          "metadata": {
            "tags": [],
            "needs_background": "light"
          }
        }
      ]
    },
    {
      "cell_type": "code",
      "metadata": {
        "colab": {
          "base_uri": "https://localhost:8080/",
          "height": 303
        },
        "id": "WQXyuMT3D8hy",
        "outputId": "2c955e7c-344e-4989-88d4-eb590aa14ca8"
      },
      "source": [
        "plt.figure(figsize=(15,4)) \n",
        "ax=sns.kdeplot(data.loc[(data['Churn'] == 0),'CreditScore'] , \\\n",
        "               color=sns.color_palette(\"Greys_r\")[0],\\\n",
        "               shade=True,label='no churn') \n",
        "ax=sns.kdeplot(data.loc[(data['Churn'] == 1),'CreditScore'] , \\\n",
        "               color=sns.color_palette(\"Greys_r\")[1],\\\n",
        "               shade=True, label='churn') \n",
        "ax.set(xlabel='CreditScore', ylabel='Frequency') \n",
        "plt.title('Customer CreditScore - churn vs no churn') "
      ],
      "execution_count": 37,
      "outputs": [
        {
          "output_type": "execute_result",
          "data": {
            "text/plain": [
              "Text(0.5, 1.0, 'Customer CreditScore - churn vs no churn')"
            ]
          },
          "metadata": {
            "tags": []
          },
          "execution_count": 37
        },
        {
          "output_type": "display_data",
          "data": {
            "image/png": "[encoded data removed]",
            "text/plain": [
              "<Figure size 1080x288 with 1 Axes>"
            ]
          },
          "metadata": {
            "tags": [],
            "needs_background": "light"
          }
        }
      ]
    },
    {
      "cell_type": "code",
      "metadata": {
        "colab": {
          "base_uri": "https://localhost:8080/",
          "height": 287
        },
        "id": "Ff2_pRZFD8h0",
        "scrolled": true,
        "outputId": "cd3d7dc3-ba75-4281-cc69-d4d8a6df8174"
      },
      "source": [
        "plt.figure(figsize=(16,4)) \n",
        "p=sns.barplot(x='NumOfProducts',y='Balance',hue='Churn',\\\n",
        "              data=data, palette=\"Greys_r\") \n",
        "p.legend(loc='upper right') \n",
        "legend = p.get_legend() \n",
        "legend_txt = legend.texts \n",
        "legend_txt[0].set_text(\"No Churn\") \n",
        "legend_txt[1].set_text(\"Churn\") \n",
        "p.set_title('Number of Product VS Balance') "
      ],
      "execution_count": 38,
      "outputs": [
        {
          "output_type": "execute_result",
          "data": {
            "text/plain": [
              "Text(0.5, 1.0, 'Number of Product VS Balance')"
            ]
          },
          "metadata": {
            "tags": []
          },
          "execution_count": 38
        },
        {
          "output_type": "display_data",
          "data": {
            "image/png": "[encoded data removed]",
            "text/plain": [
              "<Figure size 1152x288 with 1 Axes>"
            ]
          },
          "metadata": {
            "tags": [],
            "needs_background": "light"
          }
        }
      ]
    },
    {
      "cell_type": "markdown",
      "metadata": {
        "id": "lwH91_wDD8h3"
      },
      "source": [
        "## Feature selection"
      ]
    },
    {
      "cell_type": "code",
      "metadata": {
        "id": "RuSgLUzoD8h3"
      },
      "source": [
        "from sklearn.ensemble import RandomForestClassifier\n",
        "from sklearn.model_selection import train_test_split"
      ],
      "execution_count": 39,
      "outputs": []
    },
    {
      "cell_type": "code",
      "metadata": {
        "colab": {
          "base_uri": "https://localhost:8080/"
        },
        "id": "rVYioPA9D8h6",
        "outputId": "5970af04-5917-4bda-a0bf-e2d856da7257"
      },
      "source": [
        "data.dtypes"
      ],
      "execution_count": 40,
      "outputs": [
        {
          "output_type": "execute_result",
          "data": {
            "text/plain": [
              "CreditScore           int64\n",
              "Geography          category\n",
              "Gender             category\n",
              "Age                 float64\n",
              "Tenure                int64\n",
              "Balance             float64\n",
              "NumOfProducts         int64\n",
              "HasCrCard          category\n",
              "IsActiveMember     category\n",
              "EstimatedSalary     float64\n",
              "Churn              category\n",
              "dtype: object"
            ]
          },
          "metadata": {
            "tags": []
          },
          "execution_count": 40
        }
      ]
    },
    {
      "cell_type": "code",
      "metadata": {
        "id": "x19vQLSnD8h8"
      },
      "source": [
        "### Encoding the categorical variables\n",
        "data[\"Geography\"] = data[\"Geography\"].astype('category')\\\n",
        ".cat.codes\n",
        "data[\"Gender\"] = data[\"Gender\"].astype('category').cat.codes\n",
        "data[\"HasCrCard\"] = data[\"HasCrCard\"].astype('category')\\\n",
        ".cat.codes\n",
        "data[\"Churn\"] = data[\"Churn\"].astype('category').cat.codes"
      ],
      "execution_count": 41,
      "outputs": []
    },
    {
      "cell_type": "code",
      "metadata": {
        "id": "baQG1_egD8h-"
      },
      "source": [
        "target = 'Churn'\n",
        "X = data.drop('Churn', axis=1)\n",
        "y=data[target]\n",
        "\n",
        "X_train, X_test, y_train, y_test = train_test_split\\\n",
        "(X,y,test_size=0.15, \\\n",
        " random_state=123, \\\n",
        " stratify=y) "
      ],
      "execution_count": 42,
      "outputs": []
    },
    {
      "cell_type": "code",
      "metadata": {
        "colab": {
          "base_uri": "https://localhost:8080/",
          "height": 394
        },
        "id": "h_PF5Z9uD8iA",
        "scrolled": false,
        "outputId": "fc3ce0dd-7703-475f-a9f6-18cce09d34ee"
      },
      "source": [
        "forest=RandomForestClassifier(n_estimators=500,random_state=1)\n",
        "\n",
        "forest.fit(X_train,y_train)\n",
        "\n",
        "importances=forest.feature_importances_\n",
        "features = data.drop(['Churn'],axis=1).columns\n",
        "\n",
        "indices = np.argsort(importances)[::-1]\n",
        "\n",
        "plt.figure(figsize=(15,4)) \n",
        "plt.title(\"Feature importances using Random Forest\") \n",
        "plt.bar(range(X_train.shape[1]), importances[indices],\\\n",
        "        color=\"gray\", align=\"center\") \n",
        "plt.xticks(range(X_train.shape[1]), features[indices], \\\n",
        "           rotation='vertical',fontsize=15) \n",
        "plt.xlim([-1, X_train.shape[1]])\n",
        "plt.show() "
      ],
      "execution_count": 43,
      "outputs": [
        {
          "output_type": "display_data",
          "data": {
            "image/png": "[encoded data removed]",
            "text/plain": [
              "<Figure size 1080x288 with 1 Axes>"
            ]
          },
          "metadata": {
            "tags": [],
            "needs_background": "light"
          }
        }
      ]
    },
    {
      "cell_type": "code",
      "metadata": {
        "id": "lFep9UvUEPQs"
      },
      "source": [
        "feature_importance_df = pd.DataFrame({\"Feature\":features,\\\n",
        "                                      \"Importance\":importances}) "
      ],
      "execution_count": 44,
      "outputs": []
    },
    {
      "cell_type": "code",
      "metadata": {
        "colab": {
          "base_uri": "https://localhost:8080/"
        },
        "id": "ZFnyClMoEVSs",
        "scrolled": true,
        "outputId": "b0c72289-6462-4008-b7e8-f382fd28fcc5"
      },
      "source": [
        "print(feature_importance_df)"
      ],
      "execution_count": 45,
      "outputs": [
        {
          "output_type": "stream",
          "text": [
            "           Feature  Importance\n",
            "0      CreditScore    0.143886\n",
            "1        Geography    0.038548\n",
            "2           Gender    0.019299\n",
            "3              Age    0.241954\n",
            "4           Tenure    0.081503\n",
            "5          Balance    0.141760\n",
            "6    NumOfProducts    0.128461\n",
            "7        HasCrCard    0.019139\n",
            "8   IsActiveMember    0.038878\n",
            "9  EstimatedSalary    0.146571\n"
          ],
          "name": "stdout"
        }
      ]
    },
    {
      "cell_type": "markdown",
      "metadata": {
        "id": "GJNPKzXlD8iC"
      },
      "source": [
        "## Model Fitting"
      ]
    },
    {
      "cell_type": "code",
      "metadata": {
        "id": "kSJzQko6D8iC",
        "scrolled": true,
        "outputId": "4e17a415-db0f-4620-f33b-fc9111dc7a8a",
        "colab": {
          "base_uri": "https://localhost:8080/"
        }
      },
      "source": [
        "import statsmodels.api as sm \n",
        "\n",
        "top5_features = ['Age','EstimatedSalary','CreditScore',\\\n",
        "                 'Balance','NumOfProducts'] \n",
        "logReg = sm.Logit(y_train, X_train[top5_features]) \n",
        "logistic_regression = logReg.fit() "
      ],
      "execution_count": 46,
      "outputs": [
        {
          "output_type": "stream",
          "text": [
            "Optimization terminated successfully.\n",
            "         Current function value: 0.472882\n",
            "         Iterations 6\n"
          ],
          "name": "stdout"
        }
      ]
    },
    {
      "cell_type": "code",
      "metadata": {
        "id": "yLQT68bnD8iE",
        "outputId": "e4dae1a3-6626-4f60-b313-6bca2551832c",
        "colab": {
          "base_uri": "https://localhost:8080/"
        }
      },
      "source": [
        "logistic_regression.summary\n",
        "logistic_regression.params"
      ],
      "execution_count": 47,
      "outputs": [
        {
          "output_type": "execute_result",
          "data": {
            "text/plain": [
              "Age                0.048335\n",
              "EstimatedSalary   -0.000001\n",
              "CreditScore       -0.004470\n",
              "Balance            0.000003\n",
              "NumOfProducts     -0.361678\n",
              "dtype: float64"
            ]
          },
          "metadata": {
            "tags": []
          },
          "execution_count": 47
        }
      ]
    },
    {
      "cell_type": "code",
      "metadata": {
        "id": "Tn7xhwZzD8iF"
      },
      "source": [
        "# Create function to compute coefficients\n",
        "coef = logistic_regression.params\n",
        "def y (coef, Age, EstimatedSalary, CreditScore, Balance, \\\n",
        "       NumOfProducts) : return coef[0]*Age+ coef[1]\\\n",
        "*EstimatedSalary+coef[2]*CreditScore\\\n",
        "+coef[1]*Balance+coef[2]*NumOfProducts "
      ],
      "execution_count": 48,
      "outputs": []
    },
    {
      "cell_type": "code",
      "metadata": {
        "id": "0CAHvfCmD8iH",
        "outputId": "3c638135-efbf-41e3-8ca2-8cddbbaa3195",
        "colab": {
          "base_uri": "https://localhost:8080/"
        }
      },
      "source": [
        "import numpy as np\n",
        "\n",
        "#A customer having below attributes\n",
        "#Age: 50\n",
        "#EstimatedSalary: 100,000 \n",
        "#CreditScore: 600\n",
        "#Balance: 100,000\n",
        "#NumOfProducts: 2\n",
        "#would have 38% chance of churn\n",
        "\n",
        "y1 = y(coef, 50, 100000, 600,100000,2)\n",
        "p = np.exp(y1) / (1+np.exp(y1))\n",
        "p"
      ],
      "execution_count": 49,
      "outputs": [
        {
          "output_type": "execute_result",
          "data": {
            "text/plain": [
              "0.3823017864835244"
            ]
          },
          "metadata": {
            "tags": []
          },
          "execution_count": 49
        }
      ]
    },
    {
      "cell_type": "markdown",
      "metadata": {
        "id": "7mtA0J-bD8iJ"
      },
      "source": [
        "## Logistic regression using scikit-learn"
      ]
    },
    {
      "cell_type": "code",
      "metadata": {
        "id": "E1VshD6xD8iJ"
      },
      "source": [
        "from sklearn.linear_model import LogisticRegression"
      ],
      "execution_count": 50,
      "outputs": []
    },
    {
      "cell_type": "code",
      "metadata": {
        "id": "N2lFcts1D8iL"
      },
      "source": [
        "clf = LogisticRegression(random_state=0, solver='lbfgs')\\\n",
        ".fit(X_train[top5_features], y_train) "
      ],
      "execution_count": 51,
      "outputs": []
    },
    {
      "cell_type": "code",
      "metadata": {
        "id": "rYy_QdfwD8iO",
        "outputId": "f1e15c88-eaf4-4e17-ef0b-6d705148c8f0",
        "colab": {
          "base_uri": "https://localhost:8080/"
        }
      },
      "source": [
        "clf.predict(X_test[top5_features])\n",
        "clf.predict_proba(X_test[top5_features])"
      ],
      "execution_count": 52,
      "outputs": [
        {
          "output_type": "execute_result",
          "data": {
            "text/plain": [
              "array([[0.61565033, 0.38434967],\n",
              "       [0.76717157, 0.23282843],\n",
              "       [0.78137389, 0.21862611],\n",
              "       ...,\n",
              "       [0.552548  , 0.447452  ],\n",
              "       [0.85311964, 0.14688036],\n",
              "       [0.75851722, 0.24148278]])"
            ]
          },
          "metadata": {
            "tags": []
          },
          "execution_count": 52
        }
      ]
    },
    {
      "cell_type": "code",
      "metadata": {
        "id": "FrTxCfbED8iP",
        "outputId": "0f8e97f8-7494-4832-97b0-019bcd91bbd2",
        "colab": {
          "base_uri": "https://localhost:8080/"
        }
      },
      "source": [
        "clf.score(X_test[top5_features], y_test)"
      ],
      "execution_count": 53,
      "outputs": [
        {
          "output_type": "execute_result",
          "data": {
            "text/plain": [
              "0.79"
            ]
          },
          "metadata": {
            "tags": []
          },
          "execution_count": 53
        }
      ]
    },
    {
      "cell_type": "markdown",
      "metadata": {
        "id": "tKOcAQ4jWyKP"
      },
      "source": [
        "## Exercise 8.04"
      ]
    },
    {
      "cell_type": "markdown",
      "metadata": {
        "id": "7lx1gkiSWyKP"
      },
      "source": [
        "# Performing standardization"
      ]
    },
    {
      "cell_type": "code",
      "metadata": {
        "id": "HUjMnmi-WyKP"
      },
      "source": [
        "from sklearn import preprocessing"
      ],
      "execution_count": 54,
      "outputs": []
    },
    {
      "cell_type": "code",
      "metadata": {
        "colab": {
          "base_uri": "https://localhost:8080/",
          "height": 204
        },
        "id": "Ci30DyUkWyKP",
        "outputId": "73556ccc-2eb5-4e03-af78-10ec02c0826d"
      },
      "source": [
        "X_train[top5_features].head()"
      ],
      "execution_count": 55,
      "outputs": [
        {
          "output_type": "execute_result",
          "data": {
            "text/html": [
              "<div>\n",
              "<style scoped>\n",
              "    .dataframe tbody tr th:only-of-type {\n",
              "        vertical-align: middle;\n",
              "    }\n",
              "\n",
              "    .dataframe tbody tr th {\n",
              "        vertical-align: top;\n",
              "    }\n",
              "\n",
              "    .dataframe thead th {\n",
              "        text-align: right;\n",
              "    }\n",
              "</style>\n",
              "<table border=\"1\" class=\"dataframe\">\n",
              "  <thead>\n",
              "    <tr style=\"text-align: right;\">\n",
              "      <th></th>\n",
              "      <th>Age</th>\n",
              "      <th>EstimatedSalary</th>\n",
              "      <th>CreditScore</th>\n",
              "      <th>Balance</th>\n",
              "      <th>NumOfProducts</th>\n",
              "    </tr>\n",
              "  </thead>\n",
              "  <tbody>\n",
              "    <tr>\n",
              "      <th>490</th>\n",
              "      <td>29.0</td>\n",
              "      <td>196356.17</td>\n",
              "      <td>591</td>\n",
              "      <td>97541.24</td>\n",
              "      <td>1</td>\n",
              "    </tr>\n",
              "    <tr>\n",
              "      <th>5555</th>\n",
              "      <td>39.0</td>\n",
              "      <td>164018.98</td>\n",
              "      <td>614</td>\n",
              "      <td>0.00</td>\n",
              "      <td>2</td>\n",
              "    </tr>\n",
              "    <tr>\n",
              "      <th>9235</th>\n",
              "      <td>27.0</td>\n",
              "      <td>80587.27</td>\n",
              "      <td>462</td>\n",
              "      <td>176913.52</td>\n",
              "      <td>1</td>\n",
              "    </tr>\n",
              "    <tr>\n",
              "      <th>6594</th>\n",
              "      <td>40.0</td>\n",
              "      <td>57817.84</td>\n",
              "      <td>747</td>\n",
              "      <td>0.00</td>\n",
              "      <td>1</td>\n",
              "    </tr>\n",
              "    <tr>\n",
              "      <th>6671</th>\n",
              "      <td>49.0</td>\n",
              "      <td>187811.71</td>\n",
              "      <td>677</td>\n",
              "      <td>0.00</td>\n",
              "      <td>2</td>\n",
              "    </tr>\n",
              "  </tbody>\n",
              "</table>\n",
              "</div>"
            ],
            "text/plain": [
              "       Age  EstimatedSalary  CreditScore    Balance  NumOfProducts\n",
              "490   29.0        196356.17          591   97541.24              1\n",
              "5555  39.0        164018.98          614       0.00              2\n",
              "9235  27.0         80587.27          462  176913.52              1\n",
              "6594  40.0         57817.84          747       0.00              1\n",
              "6671  49.0        187811.71          677       0.00              2"
            ]
          },
          "metadata": {
            "tags": []
          },
          "execution_count": 55
        }
      ]
    },
    {
      "cell_type": "code",
      "metadata": {
        "id": "eN-MGiO3WyKQ"
      },
      "source": [
        "scaler = preprocessing.StandardScaler().fit(X_train[top5_features])"
      ],
      "execution_count": 56,
      "outputs": []
    },
    {
      "cell_type": "code",
      "metadata": {
        "colab": {
          "base_uri": "https://localhost:8080/"
        },
        "id": "VINMfHQUWyKQ",
        "outputId": "e32aa830-0388-43d0-d612-2023e87ed6b7"
      },
      "source": [
        "scaler.mean_"
      ],
      "execution_count": 57,
      "outputs": [
        {
          "output_type": "execute_result",
          "data": {
            "text/plain": [
              "array([3.89098824e+01, 1.00183902e+05, 6.49955882e+02, 7.61412119e+04,\n",
              "       1.52882353e+00])"
            ]
          },
          "metadata": {
            "tags": []
          },
          "execution_count": 57
        }
      ]
    },
    {
      "cell_type": "code",
      "metadata": {
        "colab": {
          "base_uri": "https://localhost:8080/"
        },
        "id": "obr7HP-KWyKQ",
        "outputId": "e65a8289-9bd9-4006-a40d-b9aa971ba6a2"
      },
      "source": [
        "scaler.scale_    "
      ],
      "execution_count": 58,
      "outputs": [
        {
          "output_type": "execute_result",
          "data": {
            "text/plain": [
              "array([1.03706201e+01, 5.74453373e+04, 9.64815072e+01, 6.24292333e+04,\n",
              "       5.80460085e-01])"
            ]
          },
          "metadata": {
            "tags": []
          },
          "execution_count": 58
        }
      ]
    },
    {
      "cell_type": "code",
      "metadata": {
        "id": "SUQZ749gWyKR"
      },
      "source": [
        "X_train_scalar=scaler.transform(X_train[top5_features])"
      ],
      "execution_count": 59,
      "outputs": []
    },
    {
      "cell_type": "code",
      "metadata": {
        "colab": {
          "base_uri": "https://localhost:8080/"
        },
        "id": "HfDJycX-WyKR",
        "outputId": "2aff2449-8a7c-43f4-db02-39a04085a327"
      },
      "source": [
        "X_train_scalar"
      ],
      "execution_count": 60,
      "outputs": [
        {
          "output_type": "execute_result",
          "data": {
            "text/plain": [
              "array([[-0.95557279,  1.67415272, -0.61105889,  0.34278858, -0.91104202],\n",
              "       [ 0.00868971,  1.11123166, -0.37267123, -1.21964035,  0.81172932],\n",
              "       [-1.14842529, -0.3411353 , -1.94810268,  1.61418462, -0.91104202],\n",
              "       ...,\n",
              "       [-0.56986779, -0.72635385,  0.36322108, -1.21964035, -0.91104202],\n",
              "       [-0.37701529, -1.47154105,  0.91254915, -1.21964035, -0.91104202],\n",
              "       [-0.08773654, -0.55862971, -1.11892823, -0.16336821, -0.91104202]])"
            ]
          },
          "metadata": {
            "tags": []
          },
          "execution_count": 60
        }
      ]
    },
    {
      "cell_type": "code",
      "metadata": {
        "id": "D9lhDFm7WyKS"
      },
      "source": [
        "X_test_scalar=scaler.transform(X_test[top5_features])  "
      ],
      "execution_count": 61,
      "outputs": []
    },
    {
      "cell_type": "markdown",
      "metadata": {
        "id": "o_Dg0GQgWyKS"
      },
      "source": [
        "## Exercise 8.05"
      ]
    },
    {
      "cell_type": "markdown",
      "metadata": {
        "id": "mR-CwOMgWyKS"
      },
      "source": [
        "# Performing Scaling"
      ]
    },
    {
      "cell_type": "code",
      "metadata": {
        "id": "d2AhIPMjWyKS"
      },
      "source": [
        "min_max = preprocessing.MinMaxScaler().fit(X_train[top5_features])"
      ],
      "execution_count": 62,
      "outputs": []
    },
    {
      "cell_type": "code",
      "metadata": {
        "colab": {
          "base_uri": "https://localhost:8080/"
        },
        "id": "Q-5NzaeKWyKT",
        "outputId": "be22868e-2ac7-429b-ee35-aaba8d621a66"
      },
      "source": [
        "min_max.min_"
      ],
      "execution_count": 63,
      "outputs": [
        {
          "output_type": "execute_result",
          "data": {
            "text/plain": [
              "array([-2.43243243e-01, -5.79055300e-05, -7.00000000e-01,  0.00000000e+00,\n",
              "       -3.33333333e-01])"
            ]
          },
          "metadata": {
            "tags": []
          },
          "execution_count": 63
        }
      ]
    },
    {
      "cell_type": "code",
      "metadata": {
        "colab": {
          "base_uri": "https://localhost:8080/"
        },
        "id": "HYvvSkI_WyKT",
        "outputId": "00787946-0321-4ba0-ecee-b4bcd4e4bf14"
      },
      "source": [
        "min_max.scale_    "
      ],
      "execution_count": 64,
      "outputs": [
        {
          "output_type": "execute_result",
          "data": {
            "text/plain": [
              "array([1.35135135e-02, 5.00047755e-06, 2.00000000e-03, 3.98568200e-06,\n",
              "       3.33333333e-01])"
            ]
          },
          "metadata": {
            "tags": []
          },
          "execution_count": 64
        }
      ]
    },
    {
      "cell_type": "code",
      "metadata": {
        "id": "5CTGOfkkWyKT"
      },
      "source": [
        "X_train_min_max=min_max.transform(X_train[top5_features])"
      ],
      "execution_count": 65,
      "outputs": []
    },
    {
      "cell_type": "code",
      "metadata": {
        "id": "bpiiagHvWyKU"
      },
      "source": [
        "X_test_min_max=min_max.transform(X_test[top5_features])  "
      ],
      "execution_count": 66,
      "outputs": []
    },
    {
      "cell_type": "markdown",
      "metadata": {
        "id": "eGxgfYgzWyKU"
      },
      "source": [
        "## Exercise 8.06"
      ]
    },
    {
      "cell_type": "markdown",
      "metadata": {
        "id": "mZGPRthkWyKU"
      },
      "source": [
        "# Normalization"
      ]
    },
    {
      "cell_type": "code",
      "metadata": {
        "id": "cAco50E0WyKV"
      },
      "source": [
        "normalize = preprocessing.Normalizer().fit(X_train[top5_features])"
      ],
      "execution_count": 67,
      "outputs": []
    },
    {
      "cell_type": "code",
      "metadata": {
        "colab": {
          "base_uri": "https://localhost:8080/"
        },
        "id": "cSdpfW1uWyKV",
        "outputId": "9b7a3454-24a8-4955-8789-351d581f493b"
      },
      "source": [
        "normalize"
      ],
      "execution_count": 68,
      "outputs": [
        {
          "output_type": "execute_result",
          "data": {
            "text/plain": [
              "Normalizer(copy=True, norm='l2')"
            ]
          },
          "metadata": {
            "tags": []
          },
          "execution_count": 68
        }
      ]
    },
    {
      "cell_type": "code",
      "metadata": {
        "id": "MY5NIodpWyKV"
      },
      "source": [
        "X_train_normalize=normalize.transform(X_train[top5_features])"
      ],
      "execution_count": 69,
      "outputs": []
    },
    {
      "cell_type": "code",
      "metadata": {
        "id": "MKhw3lJjWyKV"
      },
      "source": [
        "X_test_normalize=normalize.transform(X_test[top5_features])  "
      ],
      "execution_count": 70,
      "outputs": []
    },
    {
      "cell_type": "code",
      "metadata": {
        "id": "xZVXpSw_KVrj",
        "outputId": "589817cf-71e2-4522-dc23-403ab557058a",
        "colab": {
          "base_uri": "https://localhost:8080/"
        }
      },
      "source": [
        "np.sqrt(np.sum(X_train_normalize**2, axis=1))"
      ],
      "execution_count": 71,
      "outputs": [
        {
          "output_type": "execute_result",
          "data": {
            "text/plain": [
              "array([1., 1., 1., ..., 1., 1., 1.])"
            ]
          },
          "metadata": {
            "tags": []
          },
          "execution_count": 71
        }
      ]
    },
    {
      "cell_type": "code",
      "metadata": {
        "id": "C6RpPcLSKVrk",
        "outputId": "cf4c3130-f555-4302-c67e-d6e619e5beee",
        "colab": {
          "base_uri": "https://localhost:8080/"
        }
      },
      "source": [
        "np.sqrt(np.sum(X_test_normalize**2, axis=1))"
      ],
      "execution_count": 72,
      "outputs": [
        {
          "output_type": "execute_result",
          "data": {
            "text/plain": [
              "array([1., 1., 1., ..., 1., 1., 1.])"
            ]
          },
          "metadata": {
            "tags": []
          },
          "execution_count": 72
        }
      ]
    },
    {
      "cell_type": "markdown",
      "metadata": {
        "id": "JuIiKtD_WyKW"
      },
      "source": [
        "## Exercise 8.07"
      ]
    },
    {
      "cell_type": "markdown",
      "metadata": {
        "id": "qPORVV6AWyKW"
      },
      "source": [
        "# Model Evaluation"
      ]
    },
    {
      "cell_type": "code",
      "metadata": {
        "id": "qD3Z2r8sWyKX"
      },
      "source": [
        "from sklearn.model_selection import StratifiedKFold"
      ],
      "execution_count": 73,
      "outputs": []
    },
    {
      "cell_type": "code",
      "metadata": {
        "id": "UlpgeLHiWyKX"
      },
      "source": [
        "skf = StratifiedKFold(n_splits=10,random_state=1)\\\n",
        ".split(X_train[top5_features].values,y_train.values) "
      ],
      "execution_count": 74,
      "outputs": []
    },
    {
      "cell_type": "code",
      "metadata": {
        "colab": {
          "base_uri": "https://localhost:8080/"
        },
        "id": "ySRER5z1WyKX",
        "scrolled": true,
        "outputId": "60da85cf-2d66-4c58-e724-0693726a8c33"
      },
      "source": [
        "results=[]\n",
        "for i, (train,test) in enumerate(skf):\n",
        "    clf.fit(X_train[top5_features].values[train],\\\n",
        "            y_train.values[train])\n",
        "    fit_result=clf.score(X_train[top5_features].values[test],\\\n",
        "                         y_train.values[test])\n",
        "    results.append(fit_result)\n",
        "    print('k-fold: %2d, Class Ratio: %s, Accuracy: %.4f'\\\n",
        "          % (i,np.bincount(y_train.values[train]),fit_result))"
      ],
      "execution_count": 75,
      "outputs": [
        {
          "output_type": "stream",
          "text": [
            "k-fold:  0, Class Ratio: [6092 1558], Accuracy: 0.7894\n",
            "k-fold:  1, Class Ratio: [6092 1558], Accuracy: 0.7918\n",
            "k-fold:  2, Class Ratio: [6092 1558], Accuracy: 0.7882\n",
            "k-fold:  3, Class Ratio: [6092 1558], Accuracy: 0.7929\n",
            "k-fold:  4, Class Ratio: [6092 1558], Accuracy: 0.7882\n",
            "k-fold:  5, Class Ratio: [6092 1558], Accuracy: 0.7988\n",
            "k-fold:  6, Class Ratio: [6092 1558], Accuracy: 0.7824\n",
            "k-fold:  7, Class Ratio: [6092 1558], Accuracy: 0.7894\n",
            "k-fold:  8, Class Ratio: [6092 1558], Accuracy: 0.7800\n",
            "k-fold:  9, Class Ratio: [6093 1557], Accuracy: 0.7941\n"
          ],
          "name": "stdout"
        }
      ]
    },
    {
      "cell_type": "code",
      "metadata": {
        "colab": {
          "base_uri": "https://localhost:8080/"
        },
        "id": "G8yPPVk8WyKY",
        "outputId": "20a204d5-e9b7-4923-f974-728ac119b7d9"
      },
      "source": [
        "print('accuracy for CV is:%.3f' % np.mean(results))"
      ],
      "execution_count": 76,
      "outputs": [
        {
          "output_type": "stream",
          "text": [
            "accuracy for CV is:0.790\n"
          ],
          "name": "stdout"
        }
      ]
    },
    {
      "cell_type": "markdown",
      "metadata": {
        "id": "dThmUV81WyKY"
      },
      "source": [
        "### Using Scikit Learn cross_val_score"
      ]
    },
    {
      "cell_type": "code",
      "metadata": {
        "id": "Lg7C-5TcWyKY"
      },
      "source": [
        "from sklearn.model_selection import cross_val_score"
      ],
      "execution_count": 77,
      "outputs": []
    },
    {
      "cell_type": "code",
      "metadata": {
        "id": "Fy83C19ZWyKZ",
        "outputId": "b150d53b-c44b-4b49-da6d-1476d440435d",
        "colab": {
          "base_uri": "https://localhost:8080/"
        }
      },
      "source": [
        "results_cross_val_score=cross_val_score\\\n",
        "(estimator=clf,\\\n",
        "                         X=X_train[top5_features].values,\\\n",
        "                         y=y_train.values,cv=10,n_jobs=1) \n",
        "print('accuracy for CV is:%.3f '\\\n",
        "      % np.mean(results_cross_val_score)) "
      ],
      "execution_count": 78,
      "outputs": [
        {
          "output_type": "stream",
          "text": [
            "accuracy for CV is:0.790 \n"
          ],
          "name": "stdout"
        }
      ]
    },
    {
      "cell_type": "code",
      "metadata": {
        "id": "_4uWwu6TWyKZ",
        "outputId": "e4abc91d-3a82-43f8-d7ca-0aac805b6d72",
        "colab": {
          "base_uri": "https://localhost:8080/"
        }
      },
      "source": [
        "results_cross_val_score"
      ],
      "execution_count": 79,
      "outputs": [
        {
          "output_type": "execute_result",
          "data": {
            "text/plain": [
              "array([0.78941176, 0.79176471, 0.78823529, 0.79294118, 0.78823529,\n",
              "       0.79882353, 0.78235294, 0.78941176, 0.78      , 0.79411765])"
            ]
          },
          "metadata": {
            "tags": []
          },
          "execution_count": 79
        }
      ]
    },
    {
      "cell_type": "code",
      "metadata": {
        "id": "-t42ry_qWyKZ",
        "outputId": "b2d56915-0a62-49f0-8dbd-b09c25dc5c6f",
        "colab": {
          "base_uri": "https://localhost:8080/"
        }
      },
      "source": [
        "print('accuracy for CV is:%.3f' % np.mean(results_cross_val_score))"
      ],
      "execution_count": 80,
      "outputs": [
        {
          "output_type": "stream",
          "text": [
            "accuracy for CV is:0.790\n"
          ],
          "name": "stdout"
        }
      ]
    },
    {
      "cell_type": "markdown",
      "metadata": {
        "id": "DhqLNILeWyKa"
      },
      "source": [
        "## Exercise 8.08"
      ]
    },
    {
      "cell_type": "markdown",
      "metadata": {
        "id": "_maM-ef1WyKa"
      },
      "source": [
        "# Fine Tuning of Model Using Grid Search"
      ]
    },
    {
      "cell_type": "code",
      "metadata": {
        "id": "l4EGw8yUWyKa"
      },
      "source": [
        "from sklearn import svm\n",
        "from sklearn.model_selection import GridSearchCV\n",
        "from sklearn.model_selection import StratifiedKFold"
      ],
      "execution_count": 81,
      "outputs": []
    },
    {
      "cell_type": "code",
      "metadata": {
        "id": "NfLxaDOWWyKa"
      },
      "source": [
        "parameters = [ {'kernel': ['linear'], 'C':[0.1, 1]}, \\\n",
        "              {'kernel': ['rbf'], 'C':[0.1, 1]}]"
      ],
      "execution_count": 82,
      "outputs": []
    },
    {
      "cell_type": "code",
      "metadata": {
        "id": "3DQgTY7RWyKb"
      },
      "source": [
        "clf = GridSearchCV(svm.SVC(), parameters, \\\n",
        "                   cv = StratifiedKFold(n_splits = 3),\\\n",
        "                   verbose=4,n_jobs=-1)"
      ],
      "execution_count": 83,
      "outputs": []
    },
    {
      "cell_type": "code",
      "metadata": {
        "id": "RCK5oj6MWyKb",
        "scrolled": true,
        "outputId": "5344da04-0cd3-42f9-9e90-66172a49a330",
        "colab": {
          "base_uri": "https://localhost:8080/"
        }
      },
      "source": [
        "clf.fit(X_train[top5_features], y_train)"
      ],
      "execution_count": 84,
      "outputs": [
        {
          "output_type": "stream",
          "text": [
            "Fitting 3 folds for each of 4 candidates, totalling 12 fits\n"
          ],
          "name": "stdout"
        },
        {
          "output_type": "stream",
          "text": [
            "[Parallel(n_jobs=-1)]: Using backend LokyBackend with 2 concurrent workers.\n",
            "[Parallel(n_jobs=-1)]: Done  12 out of  12 | elapsed: 57.4min finished\n"
          ],
          "name": "stderr"
        },
        {
          "output_type": "execute_result",
          "data": {
            "text/plain": [
              "GridSearchCV(cv=StratifiedKFold(n_splits=3, random_state=None, shuffle=False),\n",
              "             error_score=nan,\n",
              "             estimator=SVC(C=1.0, break_ties=False, cache_size=200,\n",
              "                           class_weight=None, coef0=0.0,\n",
              "                           decision_function_shape='ovr', degree=3,\n",
              "                           gamma='scale', kernel='rbf', max_iter=-1,\n",
              "                           probability=False, random_state=None, shrinking=True,\n",
              "                           tol=0.001, verbose=False),\n",
              "             iid='deprecated', n_jobs=-1,\n",
              "             param_grid=[{'C': [0.1, 1], 'kernel': ['linear']},\n",
              "                         {'C': [0.1, 1], 'kernel': ['rbf']}],\n",
              "             pre_dispatch='2*n_jobs', refit=True, return_train_score=False,\n",
              "             scoring=None, verbose=4)"
            ]
          },
          "metadata": {
            "tags": []
          },
          "execution_count": 84
        }
      ]
    },
    {
      "cell_type": "code",
      "metadata": {
        "id": "vSEa_fdoWyKb",
        "scrolled": true,
        "outputId": "483a2382-4c55-4f55-d00d-e164b81db543",
        "colab": {
          "base_uri": "https://localhost:8080/"
        }
      },
      "source": [
        "print('best score train:', clf.best_score_)\n",
        "print('best parameters train: ', clf.best_params_)"
      ],
      "execution_count": 97,
      "outputs": [
        {
          "output_type": "stream",
          "text": [
            "best score train: 0.7963529355398448\n",
            "best parameters train:  {'C': 0.1, 'kernel': 'rbf'}\n"
          ],
          "name": "stdout"
        }
      ]
    },
    {
      "cell_type": "markdown",
      "metadata": {
        "id": "rmOuj1IaWyKc"
      },
      "source": [
        "## Exercise 8.09"
      ]
    },
    {
      "cell_type": "markdown",
      "metadata": {
        "id": "_JC2N_GCWyKc"
      },
      "source": [
        "# Performance Metrics"
      ]
    },
    {
      "cell_type": "code",
      "metadata": {
        "id": "iSqgXmD5WyKc"
      },
      "source": [
        "from sklearn.ensemble import RandomForestClassifier\n",
        "from sklearn.metrics import classification_report,confusion_matrix,accuracy_score\n",
        "from sklearn import metrics"
      ],
      "execution_count": 98,
      "outputs": []
    },
    {
      "cell_type": "code",
      "metadata": {
        "id": "9jVDtGr1WyKc"
      },
      "source": [
        "clf_random = RandomForestClassifier(n_estimators=20, \\\n",
        "                                    max_depth=None,\\\n",
        "                                    min_samples_split=7, \\\n",
        "                                    random_state=0)"
      ],
      "execution_count": 99,
      "outputs": []
    },
    {
      "cell_type": "code",
      "metadata": {
        "id": "w02rwSn1WyKd",
        "outputId": "585b681f-3b98-4c87-fdec-ee927a6e9f2d",
        "colab": {
          "base_uri": "https://localhost:8080/"
        }
      },
      "source": [
        "clf_random.fit(X_train[top5_features],y_train)"
      ],
      "execution_count": 100,
      "outputs": [
        {
          "output_type": "execute_result",
          "data": {
            "text/plain": [
              "RandomForestClassifier(bootstrap=True, ccp_alpha=0.0, class_weight=None,\n",
              "                       criterion='gini', max_depth=None, max_features='auto',\n",
              "                       max_leaf_nodes=None, max_samples=None,\n",
              "                       min_impurity_decrease=0.0, min_impurity_split=None,\n",
              "                       min_samples_leaf=1, min_samples_split=7,\n",
              "                       min_weight_fraction_leaf=0.0, n_estimators=20,\n",
              "                       n_jobs=None, oob_score=False, random_state=0, verbose=0,\n",
              "                       warm_start=False)"
            ]
          },
          "metadata": {
            "tags": []
          },
          "execution_count": 100
        }
      ]
    },
    {
      "cell_type": "code",
      "metadata": {
        "id": "_DlbNi4KWyKd"
      },
      "source": [
        "y_pred=clf_random.predict(X_test[top5_features])"
      ],
      "execution_count": 101,
      "outputs": []
    },
    {
      "cell_type": "code",
      "metadata": {
        "id": "caKBNpQAWyKe",
        "outputId": "79a17c14-9720-4a91-d0aa-9fdbfea83770",
        "colab": {
          "base_uri": "https://localhost:8080/"
        }
      },
      "source": [
        "target_names = ['No Churn', 'Churn']\n",
        "print(classification_report(y_test, y_pred, \\\n",
        "                            target_names=target_names)) "
      ],
      "execution_count": 102,
      "outputs": [
        {
          "output_type": "stream",
          "text": [
            "              precision    recall  f1-score   support\n",
            "\n",
            "    No Churn       0.86      0.94      0.90      1194\n",
            "       Churn       0.65      0.40      0.49       306\n",
            "\n",
            "    accuracy                           0.83      1500\n",
            "   macro avg       0.75      0.67      0.70      1500\n",
            "weighted avg       0.82      0.83      0.82      1500\n",
            "\n"
          ],
          "name": "stdout"
        }
      ]
    },
    {
      "cell_type": "code",
      "metadata": {
        "id": "LtrcjUKNWyKe"
      },
      "source": [
        "cm = confusion_matrix(y_test, y_pred) \n",
        "\n",
        "cm_df = pd.DataFrame(cm,\\\n",
        "                     index = ['No Churn','Churn'],\\\n",
        "                     columns = ['No Churn','Churn']) "
      ],
      "execution_count": 103,
      "outputs": []
    },
    {
      "cell_type": "code",
      "metadata": {
        "id": "SWQnESBCWyKf",
        "outputId": "da7a1a6a-9455-4587-dbee-2ac17db97fb5",
        "colab": {
          "base_uri": "https://localhost:8080/",
          "height": 419
        }
      },
      "source": [
        "plt.figure(figsize=(8,6)) \n",
        "sns.heatmap(cm_df, annot=True,fmt='g',cmap='Greys_r') \n",
        "plt.title('Random Forest \\nAccuracy:{0:.3f}'\\\n",
        "          .format(accuracy_score(y_test, y_pred))) \n",
        "plt.ylabel('True Values') \n",
        "plt.xlabel('Predicted Values') \n",
        "plt.show() "
      ],
      "execution_count": 104,
      "outputs": [
        {
          "output_type": "display_data",
          "data": {
            "image/png": "[encoded data removed]",
            "text/plain": [
              "<Figure size 576x432 with 2 Axes>"
            ]
          },
          "metadata": {
            "tags": [],
            "needs_background": "light"
          }
        }
      ]
    },
    {
      "cell_type": "markdown",
      "metadata": {
        "id": "-_SeWs9VWyKf"
      },
      "source": [
        "## Exercise 8.10"
      ]
    },
    {
      "cell_type": "markdown",
      "metadata": {
        "id": "gAEYkIPqWyKf"
      },
      "source": [
        "# ROC Curve"
      ]
    },
    {
      "cell_type": "code",
      "metadata": {
        "id": "nft1Gqu0WyKf"
      },
      "source": [
        "from sklearn.metrics import roc_curve,auc"
      ],
      "execution_count": 105,
      "outputs": []
    },
    {
      "cell_type": "code",
      "metadata": {
        "id": "EY_bPya_WyKg"
      },
      "source": [
        "fpr, tpr, thresholds = roc_curve(y_test, y_pred, pos_label=1)\n",
        "roc_auc = metrics.auc(fpr, tpr)"
      ],
      "execution_count": 106,
      "outputs": []
    },
    {
      "cell_type": "code",
      "metadata": {
        "id": "ThSh3_NyWyKg",
        "outputId": "7c3d49d7-d9bf-4d34-9434-cb1a6f71674e",
        "colab": {
          "base_uri": "https://localhost:8080/"
        }
      },
      "source": [
        "thresholds"
      ],
      "execution_count": 107,
      "outputs": [
        {
          "output_type": "execute_result",
          "data": {
            "text/plain": [
              "array([2, 1, 0], dtype=int8)"
            ]
          },
          "metadata": {
            "tags": []
          },
          "execution_count": 107
        }
      ]
    },
    {
      "cell_type": "code",
      "metadata": {
        "id": "DUsLGF4pWyKg",
        "outputId": "7df5350b-ef55-4ad4-ce78-9cc87d8240ba",
        "colab": {
          "base_uri": "https://localhost:8080/",
          "height": 295
        }
      },
      "source": [
        "plt.figure() \n",
        "plt.title('Receiver Operating Characteristic') \n",
        "plt.plot(fpr, tpr, label='%s AUC = %0.2f' % \\\n",
        "         ('Random Forest', roc_auc),color=\"gray\") \n",
        "plt.plot([0, 1], [0, 1],'k--') \n",
        "plt.xlim([0.0, 1.0]) \n",
        "plt.ylim([0.0, 1.05]) \n",
        "plt.ylabel('Sensitivity(True Positive Rate)') \n",
        "plt.xlabel('1-Specificity(False Positive Rate)') \n",
        "plt.title('Receiver Operating Characteristic') \n",
        "plt.legend(loc=\"lower right\") \n",
        "plt.show() "
      ],
      "execution_count": 108,
      "outputs": [
        {
          "output_type": "display_data",
          "data": {
            "image/png": "[encoded data removed]",
            "text/plain": [
              "<Figure size 432x288 with 1 Axes>"
            ]
          },
          "metadata": {
            "tags": [],
            "needs_background": "light"
          }
        }
      ]
    }
  ]
}