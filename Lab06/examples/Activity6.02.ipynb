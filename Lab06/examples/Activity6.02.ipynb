{
 "cells": [
  {
   "cell_type": "code",
   "execution_count": 1,
   "metadata": {
    "colab": {
     "base_uri": "https://localhost:8080/",
     "height": 195
    },
    "id": "lPCvUYhV9Jt4",
    "outputId": "04f18510-4f4f-4a4d-e74d-f7ca02986585"
   },
   "outputs": [
    {
     "data": {
      "text/html": [
       "<div>\n",
       "<style scoped>\n",
       "    .dataframe tbody tr th:only-of-type {\n",
       "        vertical-align: middle;\n",
       "    }\n",
       "\n",
       "    .dataframe tbody tr th {\n",
       "        vertical-align: top;\n",
       "    }\n",
       "\n",
       "    .dataframe thead th {\n",
       "        text-align: right;\n",
       "    }\n",
       "</style>\n",
       "<table border=\"1\" class=\"dataframe\">\n",
       "  <thead>\n",
       "    <tr style=\"text-align: right;\">\n",
       "      <th></th>\n",
       "      <th>cur_year_spend</th>\n",
       "      <th>prev_year_spend</th>\n",
       "      <th>days_since_last_purchase</th>\n",
       "      <th>days_since_first_purchase</th>\n",
       "      <th>total_transactions</th>\n",
       "      <th>age</th>\n",
       "      <th>income</th>\n",
       "      <th>engagement_score</th>\n",
       "    </tr>\n",
       "  </thead>\n",
       "  <tbody>\n",
       "    <tr>\n",
       "      <th>0</th>\n",
       "      <td>5536.46</td>\n",
       "      <td>1681.26</td>\n",
       "      <td>7</td>\n",
       "      <td>61</td>\n",
       "      <td>34</td>\n",
       "      <td>61</td>\n",
       "      <td>97914.93</td>\n",
       "      <td>-0.652392</td>\n",
       "    </tr>\n",
       "    <tr>\n",
       "      <th>1</th>\n",
       "      <td>871.41</td>\n",
       "      <td>1366.74</td>\n",
       "      <td>12</td>\n",
       "      <td>34</td>\n",
       "      <td>33</td>\n",
       "      <td>68</td>\n",
       "      <td>30904.69</td>\n",
       "      <td>0.007327</td>\n",
       "    </tr>\n",
       "    <tr>\n",
       "      <th>2</th>\n",
       "      <td>2046.74</td>\n",
       "      <td>1419.38</td>\n",
       "      <td>10</td>\n",
       "      <td>81</td>\n",
       "      <td>22</td>\n",
       "      <td>54</td>\n",
       "      <td>48194.59</td>\n",
       "      <td>0.221666</td>\n",
       "    </tr>\n",
       "    <tr>\n",
       "      <th>3</th>\n",
       "      <td>4662.70</td>\n",
       "      <td>1561.21</td>\n",
       "      <td>12</td>\n",
       "      <td>32</td>\n",
       "      <td>34</td>\n",
       "      <td>49</td>\n",
       "      <td>93551.98</td>\n",
       "      <td>1.149641</td>\n",
       "    </tr>\n",
       "    <tr>\n",
       "      <th>4</th>\n",
       "      <td>3539.46</td>\n",
       "      <td>1397.60</td>\n",
       "      <td>17</td>\n",
       "      <td>72</td>\n",
       "      <td>34</td>\n",
       "      <td>66</td>\n",
       "      <td>66267.57</td>\n",
       "      <td>0.835834</td>\n",
       "    </tr>\n",
       "  </tbody>\n",
       "</table>\n",
       "</div>"
      ],
      "text/plain": [
       "   cur_year_spend  prev_year_spend  ...    income  engagement_score\n",
       "0         5536.46          1681.26  ...  97914.93         -0.652392\n",
       "1          871.41          1366.74  ...  30904.69          0.007327\n",
       "2         2046.74          1419.38  ...  48194.59          0.221666\n",
       "3         4662.70          1561.21  ...  93551.98          1.149641\n",
       "4         3539.46          1397.60  ...  66267.57          0.835834\n",
       "\n",
       "[5 rows x 8 columns]"
      ]
     },
     "execution_count": 1,
     "metadata": {
      "tags": []
     },
     "output_type": "execute_result"
    }
   ],
   "source": [
    "import pandas as pd\n",
    "\n",
    "df = pd.read_csv('customer_spend.csv')\n",
    "df.head()"
   ]
  },
  {
   "cell_type": "code",
   "execution_count": 2,
   "metadata": {
    "id": "kX7vGfrN9JuJ"
   },
   "outputs": [],
   "source": [
    "cols = df.columns[1:]\n",
    "X = df[cols]\n",
    "\n",
    "y = df['cur_year_spend']"
   ]
  },
  {
   "cell_type": "code",
   "execution_count": null,
   "metadata": {},
   "outputs": [],
   "source": [
    "from sklearn.model_selection import train_test_split\n",
    "\n",
    "X_train, X_test, y_train, y_test = train_test_split\\\n",
    "                                   (X, y, random_state = 100)"
   ]
  },
  {
   "cell_type": "code",
   "execution_count": 3,
   "metadata": {
    "id": "OVSN230dA3K8"
   },
   "outputs": [],
   "source": [
    "from sklearn.feature_selection import RFE\n",
    "from sklearn.linear_model import LinearRegression\n",
    "\n",
    "rfe = RFE(estimator=LinearRegression(), n_features_to_select=3)"
   ]
  },
  {
   "cell_type": "code",
   "execution_count": 4,
   "metadata": {
    "colab": {
     "base_uri": "https://localhost:8080/"
    },
    "id": "MJbBlTZw9JuV",
    "outputId": "496a3700-e70a-42b7-ca5d-268f13f08fed"
   },
   "outputs": [
    {
     "data": {
      "text/plain": [
       "RFE(estimator=LinearRegression(copy_X=True, fit_intercept=True, n_jobs=None,\n",
       "                               normalize=False),\n",
       "    n_features_to_select=3, step=1, verbose=0)"
      ]
     },
     "execution_count": 4,
     "metadata": {
      "tags": []
     },
     "output_type": "execute_result"
    }
   ],
   "source": [
    "rfe.fit(X_train,y_train)"
   ]
  },
  {
   "cell_type": "code",
   "execution_count": 5,
   "metadata": {
    "colab": {
     "base_uri": "https://localhost:8080/"
    },
    "id": "WKQI2zi09Jug",
    "outputId": "b982c5fd-e4e3-43de-b83b-8ef53d21623c"
   },
   "outputs": [
    {
     "name": "stdout",
     "output_type": "stream",
     "text": [
      "Feature: days_since_first_purchase, Rank: 1\n",
      "Feature: total_transactions, Rank: 1\n",
      "Feature: engagement_score, Rank: 1\n"
     ]
    }
   ],
   "source": [
    "for featureNum in range(X_train.shape[1]):\n",
    "  # If feature was selected\n",
    "  if rfe.support_[featureNum] == True:\n",
    "    # Print feature name and rank\n",
    "    print(\"Feature: {}, Rank: {}\"\\\n",
    "          .format(X_train.columns[featureNum],\\\n",
    "                  rfe.ranking_[featureNum]))"
   ]
  },
  {
   "cell_type": "code",
   "execution_count": 6,
   "metadata": {
    "id": "KybxP20m9Juo"
   },
   "outputs": [],
   "source": [
    "X_train_reduced = X_train[X_train.columns[rfe.support_]]\n",
    "X_test_reduced = X_test[X_train.columns[rfe.support_]]"
   ]
  },
  {
   "cell_type": "code",
   "execution_count": 7,
   "metadata": {
    "colab": {
     "base_uri": "https://localhost:8080/"
    },
    "id": "ZKKo1G0Y9Juu",
    "outputId": "4714df06-885f-484e-9dc8-195549b3e7e7"
   },
   "outputs": [
    {
     "data": {
      "text/plain": [
       "LinearRegression(copy_X=True, fit_intercept=True, n_jobs=None, normalize=False)"
      ]
     },
     "execution_count": 7,
     "metadata": {
      "tags": []
     },
     "output_type": "execute_result"
    }
   ],
   "source": [
    "rfe_model = LinearRegression()\n",
    "rfe_model.fit(X_train_reduced,y_train)"
   ]
  },
  {
   "cell_type": "code",
   "execution_count": 8,
   "metadata": {
    "colab": {
     "base_uri": "https://localhost:8080/"
    },
    "id": "VYlB_aejBP6d",
    "outputId": "75588364-a93a-46cf-f964-3e43dd72f8bb"
   },
   "outputs": [
    {
     "name": "stdout",
     "output_type": "stream",
     "text": [
      "1075.9083016269915\n"
     ]
    }
   ],
   "source": [
    "from sklearn.metrics import mean_squared_error\n",
    "\n",
    "rfe_predictions = rfe_model.predict(X_test_reduced)\n",
    "print(mean_squared_error(rfe_predictions, y_test)**0.5)"
   ]
  },
  {
   "cell_type": "code",
   "execution_count": 8,
   "metadata": {
    "id": "GCQ6DPZTBwEQ"
   },
   "outputs": [],
   "source": []
  }
 ],
 "metadata": {
  "colab": {
   "name": "Activity 11.ipynb",
   "provenance": []
  },
  "kernelspec": {
   "display_name": "Python 3",
   "language": "python",
   "name": "python3"
  },
  "language_info": {
   "codemirror_mode": {
    "name": "ipython",
    "version": 3
   },
   "file_extension": ".py",
   "mimetype": "text/x-python",
   "name": "python",
   "nbconvert_exporter": "python",
   "pygments_lexer": "ipython3",
   "version": "3.7.1"
  }
 },
 "nbformat": 4,
 "nbformat_minor": 1
}
